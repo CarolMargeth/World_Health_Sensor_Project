{
 "cells": [
  {
   "cell_type": "markdown",
   "id": "84439cad",
   "metadata": {},
   "source": [
    "# World Health Sensor Project\n",
    "\n",
    "**By Carol Calderon**\n",
    "\n",
    "Jun 2023"
   ]
  },
  {
   "cell_type": "markdown",
   "id": "19159c51",
   "metadata": {},
   "source": [
    "## Objective\n",
    "\n",
    "Using The Global Health Observatory OData API to fetch data from it's data collection. Analyze the data using data science techniques and create an interactive dashboard to visualize and explore the insights."
   ]
  },
  {
   "cell_type": "markdown",
   "id": "e860fe74",
   "metadata": {},
   "source": [
    "## Project steps:\n",
    "\n",
    "1. **Select the Data Source:** Determine the specific OData API that provides the data needed for the analysis. Explore available public datasets. Determine the analysis goals.\n",
    "\n",
    "2. **Understand the API:** Study the documentation of the OData API to understand its endpoints, query parameters, and how to retrieve data. Identify the available resources, data models, and relationships between entities.\n",
    "\n",
    "3. **Retrieve and Preprocess Data:** Use the OData API to fetch the required data based on the analysis goals. Apply data preprocessing steps like cleaning, filtering, and transforming the data as necessary to prepare it for analysis.\n",
    "\n",
    "3. **Analyze the Data:** Utilize data science techniques and libraries such as pandas, NumPy, or scikit-learn to perform exploratory data analysis (EDA), statistical analysis, visualizations, or machine learning tasks. Extract meaningful insights and identify patterns or correlations in the data.\n",
    "\n",
    "4. **Choose the Visualization Tool:** Select the appropriate visualization tool like Matplotlib, Seaborn, or Plotly to create interactive and informative visualizations.\n",
    "\n",
    "5. **Design the Dashboard:** Design the user interface and layout of the dashboard using libraries like Dash, Streamlit, or Tableau. Create an intuitive and user-friendly dashboard that allows users to interact with the visualizations, apply filters, and explore the data dynamically.\n",
    "\n",
    "6. **Deploy the Dashboard:** Host the dashboard on a web server or a cloud platform to make it accessible online. This could involve deploying it as a web application or utilizing cloud hosting services like Heroku or AWS.\n",
    "\n",
    "7. **Test and Iterate:** Test the functionality and usability of the dashboard, seeking feedback from potential users. Iterate on the design and make improvements based on user input and additional data analysis requirements."
   ]
  },
  {
   "cell_type": "markdown",
   "id": "99f2853d",
   "metadata": {},
   "source": [
    "## Expected Project Tools:\n",
    "    \n",
    "Data Source: \n",
    "\n",
    "- The Global Health Observatory <https://www.who.int/data/gho>\n",
    "- OData API documentation: <https://www.who.int/data/gho/info/gho-odata-api>\n",
    "\n",
    "Retrieve the data: \n",
    "\n",
    "- **requests** or **urllib** to make HTTP requests to the OData API and retrieve the data.\n",
    "- Pandas: Perform data preprocessing, cleaning, filtering, and transformation using the powerful data manipulation capabilities of pandas.\n",
    "\n",
    "Analyze the Data:\n",
    "\n",
    "- Pandas: Utilize pandas for exploratory data analysis (EDA), data wrangling, and statistical analysis on the retrieved data.\n",
    "- NumPy: Use NumPy for numerical computations and mathematical operations.\n",
    "- Scikit-learn: Apply machine learning algorithms for predictive modeling, clustering, or classification tasks if required.\n",
    "\n",
    "Visualization Tools:\n",
    "\n",
    "- Matplotlib: Create static visualizations such as line plots, bar charts, and scatter plots.\n",
    "- Seaborn: Build aesthetically pleasing and informative statistical visualizations.\n",
    "- Plotly: Develop interactive and customizable visualizations, including interactive charts and dashboards.\n",
    "\n",
    "Design the Dashboard:\n",
    "\n",
    "- Dash: Build interactive web-based dashboards using Python and HTML components.\n",
    "- Streamlit: Create custom web applications for data analysis and visualization.\n",
    "- Tableau: Utilize Tableau's intuitive drag-and-drop interface for building interactive dashboards.\n",
    "\n",
    "Deploy the Dashboard:\n",
    "\n",
    "- Heroku: Host your dashboard as a web application using Heroku's cloud platform.\n",
    "- AWS (Amazon Web Services): Deploy your dashboard on AWS using services like Amazon EC2 or AWS Elastic Beanstalk.\n",
    "\n",
    "Test and Iterate:\n",
    "\n",
    "- User feedback and testing: Gather feedback from potential users and testers to improve the functionality and user experience of your dashboard.\n",
    "- Jupyter Notebook or documentation: Document the project, including the data analysis process, code, and key findings."
   ]
  },
  {
   "cell_type": "markdown",
   "id": "402335c9",
   "metadata": {},
   "source": [
    "\n"
   ]
  },
  {
   "cell_type": "code",
   "execution_count": 32,
   "id": "b03df8bf",
   "metadata": {},
   "outputs": [
    {
     "name": "stdout",
     "output_type": "stream",
     "text": [
      "{'Code': 'ADVERTISINGTYPE', 'Title': 'SUBSTANCE_ABUSE_ADVERTISING_TYPES'}\n",
      "{'Code': 'AGEGROUP', 'Title': 'Age Group'}\n",
      "{'Code': 'ALCOHOLTYPE', 'Title': 'Beverage Types'}\n",
      "{'Code': 'AMRGLASSCATEGORY', 'Title': 'AMR GLASS Category'}\n",
      "{'Code': 'ARCHIVE', 'Title': 'Archive date'}\n",
      "{'Code': 'ASSISTIVETECHBARRIER', 'Title': 'Barriers to accessing assistive products'}\n",
      "{'Code': 'ASSISTIVETECHFUNDING', 'Title': 'Funding for assistive tech products'}\n",
      "{'Code': 'ASSISTIVETECHPRODUCT', 'Title': 'Assistive technology product'}\n",
      "{'Code': 'ASSISTIVETECHSATIACTIVITY', 'Title': 'Satisfaction with assistive products for different environments and activities'}\n",
      "{'Code': 'ASSISTIVETECHSATISERVICE', 'Title': 'Satisfaction with assistive products and related services'}\n",
      "{'Code': 'ASSISTIVETECHSOURCE', 'Title': 'Sources of assistive products'}\n",
      "{'Code': 'ASSISTIVETECHSUBQUESTION', 'Title': 'Assistive technology subquestion'}\n",
      "{'Code': 'ASSISTIVETECHTRAVELDISTANCE', 'Title': 'Travel distance to obtain assistive products'}\n",
      "{'Code': 'AWARENESSACTIVITYTYPE', 'Title': 'SUBSTANCE_ABUSE_AWARENESS_ACTIVITY_TYPES'}\n",
      "{'Code': 'BACGROUP', 'Title': 'SUBSTANCE_ABUSE_BAC_GROUPS'}\n",
      "{'Code': 'BEVERAGETYPE', 'Title': 'SUBSTANCE_ABUSE_BEVERAGE_TYPES'}\n",
      "{'Code': 'CAREPATIENT', 'Title': 'Patient type'}\n",
      "{'Code': 'CARESECTOR', 'Title': 'Care sector'}\n",
      "{'Code': 'CCH_SUBQUESTION', 'Title': 'CCH Survey sub-question'}\n",
      "{'Code': 'CHILDCAUSE', 'Title': 'Cause of death'}\n",
      "{'Code': 'COMMUNITYACTIONTYPE', 'Title': 'Community Action'}\n",
      "{'Code': 'CONSUMPTIONTYPE', 'Title': 'Consumption type'}\n",
      "{'Code': 'COORDINATINGENTITIES', 'Title': 'SUBSTANCE_ABUSE_COORDINATING_ENTITIES'}\n",
      "{'Code': 'COUNTRY', 'Title': 'Countries, territories and areas'}\n",
      "{'Code': 'DATASOURCE', 'Title': 'Data Source'}\n",
      "{'Code': 'DHSMICSGEOREGION', 'Title': 'DHS/MICS subnational regions (Health equity monitor)'}\n",
      "{'Code': 'DRIVERTYPE', 'Title': 'Driver Type'}\n",
      "{'Code': 'DRUG', 'Title': 'RSUD_DRUGS'}\n",
      "{'Code': 'DRUGPRESCRIPTION', 'Title': 'RSUD_DRUG_PRESCRIPTION'}\n",
      "{'Code': 'DRUGSUPERVISION', 'Title': 'RSUD_DRUG_SUPERVISION'}\n",
      "{'Code': 'EDUCATIONLEVEL', 'Title': 'Education Level'}\n",
      "{'Code': 'EMFBODYPART', 'Title': 'Body part'}\n",
      "{'Code': 'EMFEXPOSED', 'Title': 'Exposed'}\n",
      "{'Code': 'EMFFREQUENCY', 'Title': 'Frequency'}\n",
      "{'Code': 'EMFRADIOBAND', 'Title': 'Radio band'}\n",
      "{'Code': 'ENVCAUSE', 'Title': 'Cause'}\n",
      "{'Code': 'GBDREGION', 'Title': 'GBD Region'}\n",
      "{'Code': 'GHECAUSES', 'Title': 'Causes'}\n",
      "{'Code': 'GHO', 'Title': 'Indicator'}\n",
      "{'Code': 'GLASSAMCAWARE_ANTIBIOTICSGROUP', 'Title': 'AWARE Antibiotics group'}\n",
      "{'Code': 'GOEQUESTION', 'Title': 'Goe question'}\n",
      "{'Code': 'GOVERNMENTBENEFIT', 'Title': 'RSUD_GOVERNMENT_BENEFITS'}\n",
      "{'Code': 'GROUP', 'Title': 'RSUD_GROUPS'}\n",
      "{'Code': 'HARMANDCONSEQUENCE', 'Title': 'SUBSTANCE_ABUSE_HARM_AND_CONSEQUENCES'}\n",
      "{'Code': 'HEALTHCAREFACILITY', 'Title': 'Health care facility type'}\n",
      "{'Code': 'HOUSEHOLDCOOKINGFUEL', 'Title': 'Cooking fuel'}\n",
      "{'Code': 'IHRSPARCAPACITYLEVEL', 'Title': 'IHR SPAR Capacity Level'}\n",
      "{'Code': 'KE_CORE', 'Title': 'Kenya Core Indicators'}\n",
      "{'Code': 'KE_COUNTY', 'Title': 'County'}\n",
      "{'Code': 'LEGISLATIONTYPE', 'Title': 'Legislation type'}\n",
      "{'Code': 'MEASUREIMPORTANCETYPE', 'Title': 'SUBSTANCE_ABUSE_MEASURE_IMPORTANCE_TYPE'}\n",
      "{'Code': 'MGHEREG', 'Title': 'Region'}\n",
      "{'Code': 'MOTOCYCLEOCCUPANTTYPE', 'Title': 'Motorcycle Occupant Type'}\n",
      "{'Code': 'NATIONALSYSTEMTYPE', 'Title': 'National System Type'}\n",
      "{'Code': 'NGO', 'Title': 'RSUD_NGOS'}\n",
      "{'Code': 'OPENACCESSSERVICE', 'Title': 'RSUD_OPEN_ACCESS_SERVICES'}\n",
      "{'Code': 'PENALTYTYPE', 'Title': 'Penalty Type'}\n",
      "{'Code': 'POLICYADOPTIONLEVEL', 'Title': 'SUBSTANCE_ABUSE_POLICY_ADOPTION_LEVELS'}\n",
      "{'Code': 'POLICYFRAMEWORK', 'Title': 'SUBSTANCE_ABUSE_POLICY_FRAMEWORKS'}\n",
      "{'Code': 'PRICEMEASURETYPE', 'Title': 'Price measure types'}\n",
      "{'Code': 'PROGRAMME', 'Title': 'RSUD_PROGRAMMES'}\n",
      "{'Code': 'PUBLICPLACE', 'Title': 'SUBSTANCE_ABUSE_PUBLIC_PLACES'}\n",
      "{'Code': 'PUBLICPRIVATESETTING', 'Title': 'RSUD_PUBLIC_PRIVATE_SETTINGS'}\n",
      "{'Code': 'PUBLISHSTATE', 'Title': 'PUBLISH STATES'}\n",
      "{'Code': 'RADONSUBQUESTIONS', 'Title': 'Radon subquestions'}\n",
      "{'Code': 'REGION', 'Title': 'WHO region'}\n",
      "{'Code': 'RESIDENCEAREATYPE', 'Title': 'Residence area type'}\n",
      "{'Code': 'ROADUSERTYPE', 'Title': 'Road User Type'}\n",
      "{'Code': 'RSUD_HIVHEP_CT', 'Title': 'HIV / Hepatitis counselling and treatment'}\n",
      "{'Code': 'RSUDHWF', 'Title': 'Human resources / health workforce'}\n",
      "{'Code': 'RSUDMAINSUBSTANCEATTREATMENT', 'Title': 'RSUD Main substance at treatment'}\n",
      "{'Code': 'RSUDMAINTENANCEACCESSRESTRICTIONS', 'Title': 'Maintenance access restrictions'}\n",
      "{'Code': 'RSUDMONITORING', 'Title': 'Monitoring system'}\n",
      "{'Code': 'RSUDPHARMACOTHERAPYOPTION', 'Title': 'Pharmacotherapy options'}\n",
      "{'Code': 'RSUDPREVENTIONPROGRAMME', 'Title': 'Prevention programmes'}\n",
      "{'Code': 'RSUDREP', 'Title': 'Representatives'}\n",
      "{'Code': 'RSUDREPORTING', 'Title': 'Sources of reporting'}\n",
      "{'Code': 'RSUDSPECIFICPOPULATION', 'Title': 'Specific populations'}\n",
      "{'Code': 'RSUDSUBSTANCEDEPENDENCE', 'Title': 'Substance dependence'}\n",
      "{'Code': 'RSUDTREATMENT', 'Title': 'Treatment'}\n",
      "{'Code': 'RSUDTREATMENTLOCATION', 'Title': 'Treatment location'}\n",
      "{'Code': 'SEATTYPE', 'Title': 'Seat Type'}\n",
      "{'Code': 'SEVERITY', 'Title': 'Severity'}\n",
      "{'Code': 'SEX', 'Title': 'Sex'}\n",
      "{'Code': 'SOCIALCOSTTYPE', 'Title': 'SUBSTANCE_ABUSE_SOCIAL_COST_TYPES'}\n",
      "{'Code': 'SPONSORSHIPORIGINATOR', 'Title': 'Sponsorship originator'}\n",
      "{'Code': 'STANDARDOFCARE', 'Title': 'RSUD_STANDARDS_OF_CARE'}\n",
      "{'Code': 'SUBSTANCETYPE', 'Title': 'RSUD_SUBSTANCE_TYPES'}\n",
      "{'Code': 'SUBSTANCETYPEDISORDER', 'Title': 'RSUD_SUBSTANCE_TYPE_DISORDERS'}\n",
      "{'Code': 'SUNBED_ACCESS', 'Title': 'Sunbed access restrictions'}\n",
      "{'Code': 'SUNBED_CONTROL', 'Title': 'Restriction and inspection of sunbed facilities'}\n",
      "{'Code': 'SUNBED_INFO', 'Title': 'Sunbed public information requirements'}\n",
      "{'Code': 'SUNBED_SAFETY', 'Title': 'Sunbed facility safety requirements'}\n",
      "{'Code': 'SUNBED_TRAINING', 'Title': 'Sunbed facility staff training requirements'}\n",
      "{'Code': 'TIMEPERIOD', 'Title': 'Time period'}\n",
      "{'Code': 'UNCERTAINTY_INTERVAL', 'Title': 'Uncertainty interval'}\n",
      "{'Code': 'UNICEFREGION', 'Title': 'UNICEF region'}\n",
      "{'Code': 'UNREGION', 'Title': 'UN Region'}\n",
      "{'Code': 'UNSDGREGION', 'Title': 'UN SDG Region'}\n",
      "{'Code': 'VEHICLESTANDARD', 'Title': 'Vehicle standards'}\n",
      "{'Code': 'WEALTHDECILE', 'Title': 'Wealth decile'}\n",
      "{'Code': 'WEALTHQUINTILE', 'Title': 'Wealth Quintile'}\n",
      "{'Code': 'WHOINCOMEREGION', 'Title': 'WHO Income Region'}\n",
      "{'Code': 'WORLDBANKINCOMEGROUP', 'Title': 'World Bank income group'}\n",
      "{'Code': 'WORLDBANKREGION', 'Title': 'World Bank Region'}\n",
      "{'Code': 'YEAR', 'Title': 'Year'}\n"
     ]
    }
   ],
   "source": [
    "import requests\n",
    "import json\n",
    "\n",
    "# Send a GET request to the API endpoint\n",
    "url = \"https://ghoapi.azureedge.net/api/Dimension\"\n",
    "response = requests.get(url)\n",
    "\n",
    "# Check the response status code\n",
    "if response.status_code == 200:\n",
    "    resp = response.json()\n",
    "    data = resp['value']\n",
    "    # Process the data as needed\n",
    "    for item in data:\n",
    "        value = item\n",
    "        print(value)\n",
    "        # Process each item in the data\n",
    "\n",
    "else:\n",
    "    print(\"Request failed with status code:\", response.status_code)\n"
   ]
  },
  {
   "cell_type": "code",
   "execution_count": 30,
   "id": "65818fed",
   "metadata": {},
   "outputs": [
    {
     "name": "stdout",
     "output_type": "stream",
     "text": [
      "{'@odata.context': 'https://ghoapi.azureedge.net/api/$metadata#DIMENSION', 'value': [{'Code': 'ADVERTISINGTYPE', 'Title': 'SUBSTANCE_ABUSE_ADVERTISING_TYPES'}, {'Code': 'AGEGROUP', 'Title': 'Age Group'}, {'Code': 'ALCOHOLTYPE', 'Title': 'Beverage Types'}, {'Code': 'AMRGLASSCATEGORY', 'Title': 'AMR GLASS Category'}, {'Code': 'ARCHIVE', 'Title': 'Archive date'}, {'Code': 'ASSISTIVETECHBARRIER', 'Title': 'Barriers to accessing assistive products'}, {'Code': 'ASSISTIVETECHFUNDING', 'Title': 'Funding for assistive tech products'}, {'Code': 'ASSISTIVETECHPRODUCT', 'Title': 'Assistive technology product'}, {'Code': 'ASSISTIVETECHSATIACTIVITY', 'Title': 'Satisfaction with assistive products for different environments and activities'}, {'Code': 'ASSISTIVETECHSATISERVICE', 'Title': 'Satisfaction with assistive products and related services'}, {'Code': 'ASSISTIVETECHSOURCE', 'Title': 'Sources of assistive products'}, {'Code': 'ASSISTIVETECHSUBQUESTION', 'Title': 'Assistive technology subquestion'}, {'Code': 'ASSISTIVETECHTRAVELDISTANCE', 'Title': 'Travel distance to obtain assistive products'}, {'Code': 'AWARENESSACTIVITYTYPE', 'Title': 'SUBSTANCE_ABUSE_AWARENESS_ACTIVITY_TYPES'}, {'Code': 'BACGROUP', 'Title': 'SUBSTANCE_ABUSE_BAC_GROUPS'}, {'Code': 'BEVERAGETYPE', 'Title': 'SUBSTANCE_ABUSE_BEVERAGE_TYPES'}, {'Code': 'CAREPATIENT', 'Title': 'Patient type'}, {'Code': 'CARESECTOR', 'Title': 'Care sector'}, {'Code': 'CCH_SUBQUESTION', 'Title': 'CCH Survey sub-question'}, {'Code': 'CHILDCAUSE', 'Title': 'Cause of death'}, {'Code': 'COMMUNITYACTIONTYPE', 'Title': 'Community Action'}, {'Code': 'CONSUMPTIONTYPE', 'Title': 'Consumption type'}, {'Code': 'COORDINATINGENTITIES', 'Title': 'SUBSTANCE_ABUSE_COORDINATING_ENTITIES'}, {'Code': 'COUNTRY', 'Title': 'Countries, territories and areas'}, {'Code': 'DATASOURCE', 'Title': 'Data Source'}, {'Code': 'DHSMICSGEOREGION', 'Title': 'DHS/MICS subnational regions (Health equity monitor)'}, {'Code': 'DRIVERTYPE', 'Title': 'Driver Type'}, {'Code': 'DRUG', 'Title': 'RSUD_DRUGS'}, {'Code': 'DRUGPRESCRIPTION', 'Title': 'RSUD_DRUG_PRESCRIPTION'}, {'Code': 'DRUGSUPERVISION', 'Title': 'RSUD_DRUG_SUPERVISION'}, {'Code': 'EDUCATIONLEVEL', 'Title': 'Education Level'}, {'Code': 'EMFBODYPART', 'Title': 'Body part'}, {'Code': 'EMFEXPOSED', 'Title': 'Exposed'}, {'Code': 'EMFFREQUENCY', 'Title': 'Frequency'}, {'Code': 'EMFRADIOBAND', 'Title': 'Radio band'}, {'Code': 'ENVCAUSE', 'Title': 'Cause'}, {'Code': 'GBDREGION', 'Title': 'GBD Region'}, {'Code': 'GHECAUSES', 'Title': 'Causes'}, {'Code': 'GHO', 'Title': 'Indicator'}, {'Code': 'GLASSAMCAWARE_ANTIBIOTICSGROUP', 'Title': 'AWARE Antibiotics group'}, {'Code': 'GOEQUESTION', 'Title': 'Goe question'}, {'Code': 'GOVERNMENTBENEFIT', 'Title': 'RSUD_GOVERNMENT_BENEFITS'}, {'Code': 'GROUP', 'Title': 'RSUD_GROUPS'}, {'Code': 'HARMANDCONSEQUENCE', 'Title': 'SUBSTANCE_ABUSE_HARM_AND_CONSEQUENCES'}, {'Code': 'HEALTHCAREFACILITY', 'Title': 'Health care facility type'}, {'Code': 'HOUSEHOLDCOOKINGFUEL', 'Title': 'Cooking fuel'}, {'Code': 'IHRSPARCAPACITYLEVEL', 'Title': 'IHR SPAR Capacity Level'}, {'Code': 'KE_CORE', 'Title': 'Kenya Core Indicators'}, {'Code': 'KE_COUNTY', 'Title': 'County'}, {'Code': 'LEGISLATIONTYPE', 'Title': 'Legislation type'}, {'Code': 'MEASUREIMPORTANCETYPE', 'Title': 'SUBSTANCE_ABUSE_MEASURE_IMPORTANCE_TYPE'}, {'Code': 'MGHEREG', 'Title': 'Region'}, {'Code': 'MOTOCYCLEOCCUPANTTYPE', 'Title': 'Motorcycle Occupant Type'}, {'Code': 'NATIONALSYSTEMTYPE', 'Title': 'National System Type'}, {'Code': 'NGO', 'Title': 'RSUD_NGOS'}, {'Code': 'OPENACCESSSERVICE', 'Title': 'RSUD_OPEN_ACCESS_SERVICES'}, {'Code': 'PENALTYTYPE', 'Title': 'Penalty Type'}, {'Code': 'POLICYADOPTIONLEVEL', 'Title': 'SUBSTANCE_ABUSE_POLICY_ADOPTION_LEVELS'}, {'Code': 'POLICYFRAMEWORK', 'Title': 'SUBSTANCE_ABUSE_POLICY_FRAMEWORKS'}, {'Code': 'PRICEMEASURETYPE', 'Title': 'Price measure types'}, {'Code': 'PROGRAMME', 'Title': 'RSUD_PROGRAMMES'}, {'Code': 'PUBLICPLACE', 'Title': 'SUBSTANCE_ABUSE_PUBLIC_PLACES'}, {'Code': 'PUBLICPRIVATESETTING', 'Title': 'RSUD_PUBLIC_PRIVATE_SETTINGS'}, {'Code': 'PUBLISHSTATE', 'Title': 'PUBLISH STATES'}, {'Code': 'RADONSUBQUESTIONS', 'Title': 'Radon subquestions'}, {'Code': 'REGION', 'Title': 'WHO region'}, {'Code': 'RESIDENCEAREATYPE', 'Title': 'Residence area type'}, {'Code': 'ROADUSERTYPE', 'Title': 'Road User Type'}, {'Code': 'RSUD_HIVHEP_CT', 'Title': 'HIV / Hepatitis counselling and treatment'}, {'Code': 'RSUDHWF', 'Title': 'Human resources / health workforce'}, {'Code': 'RSUDMAINSUBSTANCEATTREATMENT', 'Title': 'RSUD Main substance at treatment'}, {'Code': 'RSUDMAINTENANCEACCESSRESTRICTIONS', 'Title': 'Maintenance access restrictions'}, {'Code': 'RSUDMONITORING', 'Title': 'Monitoring system'}, {'Code': 'RSUDPHARMACOTHERAPYOPTION', 'Title': 'Pharmacotherapy options'}, {'Code': 'RSUDPREVENTIONPROGRAMME', 'Title': 'Prevention programmes'}, {'Code': 'RSUDREP', 'Title': 'Representatives'}, {'Code': 'RSUDREPORTING', 'Title': 'Sources of reporting'}, {'Code': 'RSUDSPECIFICPOPULATION', 'Title': 'Specific populations'}, {'Code': 'RSUDSUBSTANCEDEPENDENCE', 'Title': 'Substance dependence'}, {'Code': 'RSUDTREATMENT', 'Title': 'Treatment'}, {'Code': 'RSUDTREATMENTLOCATION', 'Title': 'Treatment location'}, {'Code': 'SEATTYPE', 'Title': 'Seat Type'}, {'Code': 'SEVERITY', 'Title': 'Severity'}, {'Code': 'SEX', 'Title': 'Sex'}, {'Code': 'SOCIALCOSTTYPE', 'Title': 'SUBSTANCE_ABUSE_SOCIAL_COST_TYPES'}, {'Code': 'SPONSORSHIPORIGINATOR', 'Title': 'Sponsorship originator'}, {'Code': 'STANDARDOFCARE', 'Title': 'RSUD_STANDARDS_OF_CARE'}, {'Code': 'SUBSTANCETYPE', 'Title': 'RSUD_SUBSTANCE_TYPES'}, {'Code': 'SUBSTANCETYPEDISORDER', 'Title': 'RSUD_SUBSTANCE_TYPE_DISORDERS'}, {'Code': 'SUNBED_ACCESS', 'Title': 'Sunbed access restrictions'}, {'Code': 'SUNBED_CONTROL', 'Title': 'Restriction and inspection of sunbed facilities'}, {'Code': 'SUNBED_INFO', 'Title': 'Sunbed public information requirements'}, {'Code': 'SUNBED_SAFETY', 'Title': 'Sunbed facility safety requirements'}, {'Code': 'SUNBED_TRAINING', 'Title': 'Sunbed facility staff training requirements'}, {'Code': 'TIMEPERIOD', 'Title': 'Time period'}, {'Code': 'UNCERTAINTY_INTERVAL', 'Title': 'Uncertainty interval'}, {'Code': 'UNICEFREGION', 'Title': 'UNICEF region'}, {'Code': 'UNREGION', 'Title': 'UN Region'}, {'Code': 'UNSDGREGION', 'Title': 'UN SDG Region'}, {'Code': 'VEHICLESTANDARD', 'Title': 'Vehicle standards'}, {'Code': 'WEALTHDECILE', 'Title': 'Wealth decile'}, {'Code': 'WEALTHQUINTILE', 'Title': 'Wealth Quintile'}, {'Code': 'WHOINCOMEREGION', 'Title': 'WHO Income Region'}, {'Code': 'WORLDBANKINCOMEGROUP', 'Title': 'World Bank income group'}, {'Code': 'WORLDBANKREGION', 'Title': 'World Bank Region'}, {'Code': 'YEAR', 'Title': 'Year'}]}\n"
     ]
    }
   ],
   "source": [
    "print(data)"
   ]
  },
  {
   "cell_type": "code",
   "execution_count": 15,
   "id": "52321aa9",
   "metadata": {},
   "outputs": [
    {
     "name": "stdout",
     "output_type": "stream",
     "text": [
      "b'{\"@odata.context\":\"https://ghoapi.azureedge.net/api/$metadata#DIMENSION\",\"value\":[{\"Code\":\"ADVERTISINGTYPE\",\"Title\":\"SUBSTANCE_ABUSE_ADVERTISING_TYPES\"},{\"Code\":\"AGEGROUP\",\"Title\":\"Age Group\"},{\"Code\":\"ALCOHOLTYPE\",\"Title\":\"Beverage Types\"},{\"Code\":\"AMRGLASSCATEGORY\",\"Title\":\"AMR GLASS Category\"},{\"Code\":\"ARCHIVE\",\"Title\":\"Archive date\"},{\"Code\":\"ASSISTIVETECHBARRIER\",\"Title\":\"Barriers to accessing assistive products\"},{\"Code\":\"ASSISTIVETECHFUNDING\",\"Title\":\"Funding for assistive tech products\"},{\"Code\":\"ASSISTIVETECHPRODUCT\",\"Title\":\"Assistive technology product\"},{\"Code\":\"ASSISTIVETECHSATIACTIVITY\",\"Title\":\"Satisfaction with assistive products for different environments and activities\"},{\"Code\":\"ASSISTIVETECHSATISERVICE\",\"Title\":\"Satisfaction with assistive products and related services\"},{\"Code\":\"ASSISTIVETECHSOURCE\",\"Title\":\"Sources of assistive products\"},{\"Code\":\"ASSISTIVETECHSUBQUESTION\",\"Title\":\"Assistive technology subquestion\"},{\"Code\":\"ASSISTIVETECHTRAVELDISTANCE\",\"Title\":\"Travel distance to obtain assistive products\"},{\"Code\":\"AWARENESSACTIVITYTYPE\",\"Title\":\"SUBSTANCE_ABUSE_AWARENESS_ACTIVITY_TYPES\"},{\"Code\":\"BACGROUP\",\"Title\":\"SUBSTANCE_ABUSE_BAC_GROUPS\"},{\"Code\":\"BEVERAGETYPE\",\"Title\":\"SUBSTANCE_ABUSE_BEVERAGE_TYPES\"},{\"Code\":\"CAREPATIENT\",\"Title\":\"Patient type\"},{\"Code\":\"CARESECTOR\",\"Title\":\"Care sector\"},{\"Code\":\"CCH_SUBQUESTION\",\"Title\":\"CCH Survey sub-question\"},{\"Code\":\"CHILDCAUSE\",\"Title\":\"Cause of death\"},{\"Code\":\"COMMUNITYACTIONTYPE\",\"Title\":\"Community Action\"},{\"Code\":\"CONSUMPTIONTYPE\",\"Title\":\"Consumption type\"},{\"Code\":\"COORDINATINGENTITIES\",\"Title\":\"SUBSTANCE_ABUSE_COORDINATING_ENTITIES\"},{\"Code\":\"COUNTRY\",\"Title\":\"Countries, territories and areas\"},{\"Code\":\"DATASOURCE\",\"Title\":\"Data Source\"},{\"Code\":\"DHSMICSGEOREGION\",\"Title\":\"DHS/MICS subnational regions (Health equity monitor)\"},{\"Code\":\"DRIVERTYPE\",\"Title\":\"Driver Type\"},{\"Code\":\"DRUG\",\"Title\":\"RSUD_DRUGS\"},{\"Code\":\"DRUGPRESCRIPTION\",\"Title\":\"RSUD_DRUG_PRESCRIPTION\"},{\"Code\":\"DRUGSUPERVISION\",\"Title\":\"RSUD_DRUG_SUPERVISION\"},{\"Code\":\"EDUCATIONLEVEL\",\"Title\":\"Education Level\"},{\"Code\":\"EMFBODYPART\",\"Title\":\"Body part\"},{\"Code\":\"EMFEXPOSED\",\"Title\":\"Exposed\"},{\"Code\":\"EMFFREQUENCY\",\"Title\":\"Frequency\"},{\"Code\":\"EMFRADIOBAND\",\"Title\":\"Radio band\"},{\"Code\":\"ENVCAUSE\",\"Title\":\"Cause\"},{\"Code\":\"GBDREGION\",\"Title\":\"GBD Region\"},{\"Code\":\"GHECAUSES\",\"Title\":\"Causes\"},{\"Code\":\"GHO\",\"Title\":\"Indicator\"},{\"Code\":\"GLASSAMCAWARE_ANTIBIOTICSGROUP\",\"Title\":\"AWARE Antibiotics group\"},{\"Code\":\"GOEQUESTION\",\"Title\":\"Goe question\"},{\"Code\":\"GOVERNMENTBENEFIT\",\"Title\":\"RSUD_GOVERNMENT_BENEFITS\"},{\"Code\":\"GROUP\",\"Title\":\"RSUD_GROUPS\"},{\"Code\":\"HARMANDCONSEQUENCE\",\"Title\":\"SUBSTANCE_ABUSE_HARM_AND_CONSEQUENCES\"},{\"Code\":\"HEALTHCAREFACILITY\",\"Title\":\"Health care facility type\"},{\"Code\":\"HOUSEHOLDCOOKINGFUEL\",\"Title\":\"Cooking fuel\"},{\"Code\":\"IHRSPARCAPACITYLEVEL\",\"Title\":\"IHR SPAR Capacity Level\"},{\"Code\":\"KE_CORE\",\"Title\":\"Kenya Core Indicators\"},{\"Code\":\"KE_COUNTY\",\"Title\":\"County\"},{\"Code\":\"LEGISLATIONTYPE\",\"Title\":\"Legislation type\"},{\"Code\":\"MEASUREIMPORTANCETYPE\",\"Title\":\"SUBSTANCE_ABUSE_MEASURE_IMPORTANCE_TYPE\"},{\"Code\":\"MGHEREG\",\"Title\":\"Region\"},{\"Code\":\"MOTOCYCLEOCCUPANTTYPE\",\"Title\":\"Motorcycle Occupant Type\"},{\"Code\":\"NATIONALSYSTEMTYPE\",\"Title\":\"National System Type\"},{\"Code\":\"NGO\",\"Title\":\"RSUD_NGOS\"},{\"Code\":\"OPENACCESSSERVICE\",\"Title\":\"RSUD_OPEN_ACCESS_SERVICES\"},{\"Code\":\"PENALTYTYPE\",\"Title\":\"Penalty Type\"},{\"Code\":\"POLICYADOPTIONLEVEL\",\"Title\":\"SUBSTANCE_ABUSE_POLICY_ADOPTION_LEVELS\"},{\"Code\":\"POLICYFRAMEWORK\",\"Title\":\"SUBSTANCE_ABUSE_POLICY_FRAMEWORKS\"},{\"Code\":\"PRICEMEASURETYPE\",\"Title\":\"Price measure types\"},{\"Code\":\"PROGRAMME\",\"Title\":\"RSUD_PROGRAMMES\"},{\"Code\":\"PUBLICPLACE\",\"Title\":\"SUBSTANCE_ABUSE_PUBLIC_PLACES\"},{\"Code\":\"PUBLICPRIVATESETTING\",\"Title\":\"RSUD_PUBLIC_PRIVATE_SETTINGS\"},{\"Code\":\"PUBLISHSTATE\",\"Title\":\"PUBLISH STATES\"},{\"Code\":\"RADONSUBQUESTIONS\",\"Title\":\"Radon subquestions\"},{\"Code\":\"REGION\",\"Title\":\"WHO region\"},{\"Code\":\"RESIDENCEAREATYPE\",\"Title\":\"Residence area type\"},{\"Code\":\"ROADUSERTYPE\",\"Title\":\"Road User Type\"},{\"Code\":\"RSUD_HIVHEP_CT\",\"Title\":\"HIV / Hepatitis counselling and treatment\"},{\"Code\":\"RSUDHWF\",\"Title\":\"Human resources / health workforce\"},{\"Code\":\"RSUDMAINSUBSTANCEATTREATMENT\",\"Title\":\"RSUD Main substance at treatment\"},{\"Code\":\"RSUDMAINTENANCEACCESSRESTRICTIONS\",\"Title\":\"Maintenance access restrictions\"},{\"Code\":\"RSUDMONITORING\",\"Title\":\"Monitoring system\"},{\"Code\":\"RSUDPHARMACOTHERAPYOPTION\",\"Title\":\"Pharmacotherapy options\"},{\"Code\":\"RSUDPREVENTIONPROGRAMME\",\"Title\":\"Prevention programmes\"},{\"Code\":\"RSUDREP\",\"Title\":\"Representatives\"},{\"Code\":\"RSUDREPORTING\",\"Title\":\"Sources of reporting\"},{\"Code\":\"RSUDSPECIFICPOPULATION\",\"Title\":\"Specific populations\"},{\"Code\":\"RSUDSUBSTANCEDEPENDENCE\",\"Title\":\"Substance dependence\"},{\"Code\":\"RSUDTREATMENT\",\"Title\":\"Treatment\"},{\"Code\":\"RSUDTREATMENTLOCATION\",\"Title\":\"Treatment location\"},{\"Code\":\"SEATTYPE\",\"Title\":\"Seat Type\"},{\"Code\":\"SEVERITY\",\"Title\":\"Severity\"},{\"Code\":\"SEX\",\"Title\":\"Sex\"},{\"Code\":\"SOCIALCOSTTYPE\",\"Title\":\"SUBSTANCE_ABUSE_SOCIAL_COST_TYPES\"},{\"Code\":\"SPONSORSHIPORIGINATOR\",\"Title\":\"Sponsorship originator\"},{\"Code\":\"STANDARDOFCARE\",\"Title\":\"RSUD_STANDARDS_OF_CARE\"},{\"Code\":\"SUBSTANCETYPE\",\"Title\":\"RSUD_SUBSTANCE_TYPES\"},{\"Code\":\"SUBSTANCETYPEDISORDER\",\"Title\":\"RSUD_SUBSTANCE_TYPE_DISORDERS\"},{\"Code\":\"SUNBED_ACCESS\",\"Title\":\"Sunbed access restrictions\"},{\"Code\":\"SUNBED_CONTROL\",\"Title\":\"Restriction and inspection of sunbed facilities\"},{\"Code\":\"SUNBED_INFO\",\"Title\":\"Sunbed public information requirements\"},{\"Code\":\"SUNBED_SAFETY\",\"Title\":\"Sunbed facility safety requirements\"},{\"Code\":\"SUNBED_TRAINING\",\"Title\":\"Sunbed facility staff training requirements\"},{\"Code\":\"TIMEPERIOD\",\"Title\":\"Time period\"},{\"Code\":\"UNCERTAINTY_INTERVAL\",\"Title\":\"Uncertainty interval\"},{\"Code\":\"UNICEFREGION\",\"Title\":\"UNICEF region\"},{\"Code\":\"UNREGION\",\"Title\":\"UN Region\"},{\"Code\":\"UNSDGREGION\",\"Title\":\"UN SDG Region\"},{\"Code\":\"VEHICLESTANDARD\",\"Title\":\"Vehicle standards\"},{\"Code\":\"WEALTHDECILE\",\"Title\":\"Wealth decile\"},{\"Code\":\"WEALTHQUINTILE\",\"Title\":\"Wealth Quintile\"},{\"Code\":\"WHOINCOMEREGION\",\"Title\":\"WHO Income Region\"},{\"Code\":\"WORLDBANKINCOMEGROUP\",\"Title\":\"World Bank income group\"},{\"Code\":\"WORLDBANKREGION\",\"Title\":\"World Bank Region\"},{\"Code\":\"YEAR\",\"Title\":\"Year\"}]}'\n"
     ]
    }
   ],
   "source": [
    "print(response.content)"
   ]
  },
  {
   "cell_type": "code",
   "execution_count": null,
   "id": "1146b74d",
   "metadata": {},
   "outputs": [],
   "source": []
  },
  {
   "cell_type": "code",
   "execution_count": null,
   "id": "cefca284",
   "metadata": {},
   "outputs": [],
   "source": []
  },
  {
   "cell_type": "code",
   "execution_count": null,
   "id": "2c7a529e",
   "metadata": {},
   "outputs": [],
   "source": []
  }
 ],
 "metadata": {
  "kernelspec": {
   "display_name": "Python 3 (ipykernel)",
   "language": "python",
   "name": "python3"
  },
  "language_info": {
   "codemirror_mode": {
    "name": "ipython",
    "version": 3
   },
   "file_extension": ".py",
   "mimetype": "text/x-python",
   "name": "python",
   "nbconvert_exporter": "python",
   "pygments_lexer": "ipython3",
   "version": "3.9.13"
  }
 },
 "nbformat": 4,
 "nbformat_minor": 5
}
