{
 "cells": [
  {
   "cell_type": "markdown",
   "id": "7bb989bb-a123-4228-84bb-fc8fa6c9eda7",
   "metadata": {},
   "source": [
    "# World Health Sensor Project\n",
    "\n",
    "**By Carol Calderon**\n",
    "\n",
    "Jun 2023"
   ]
  },
  {
   "cell_type": "markdown",
   "id": "8c210b9f-0fae-4e8b-a6d4-f6b328470c45",
   "metadata": {},
   "source": [
    "## Objective\n",
    "\n",
    "Using The Global Health Observatory OData API to fetch data from it's data collection. Analyze the data using data science techniques and create an interactive dashboard to visualize and explore the insights."
   ]
  },
  {
   "cell_type": "markdown",
   "id": "6118be4b-5349-4c65-9040-2f8444e70f0e",
   "metadata": {},
   "source": [
    "## Project steps:\n",
    "\n",
    "1. **Select the Data Source:** Determine the specific OData API that provides the data needed for the analysis. Explore available public datasets. Determine the analysis goals.\n",
    "\n",
    "2. **Understand the API:** Study the documentation of the OData API to understand its endpoints, query parameters, and how to retrieve data. Identify the available resources, data models, and relationships between entities.\n",
    "\n",
    "3. **Retrieve and Preprocess Data:** Use the OData API to fetch the required data based on the analysis goals. Apply data preprocessing steps like cleaning, filtering, and transforming the data as necessary to prepare it for analysis.\n",
    "\n",
    "3. **Analyze the Data:** Utilize data science techniques and libraries such as pandas, NumPy, or scikit-learn to perform exploratory data analysis (EDA), statistical analysis, visualizations, or machine learning tasks. Extract meaningful insights and identify patterns or correlations in the data. Select the appropriate visualization tool like Matplotlib, Seaborn, or Plotly to create interactive and informative visualizations.\n",
    "\n",
    "4. **Design the Dashboard:** Design the user interface and layout of the dashboard using libraries like Dash, Streamlit, or Tableau. Create an intuitive and user-friendly dashboard that allows users to interact with the visualizations, apply filters, and explore the data dynamically.\n",
    "\n",
    "5. **Deploy the Dashboard:** Host the dashboard on a web server or a cloud platform to make it accessible online. This could involve deploying it as a web application or utilizing cloud hosting services like Heroku or AWS. **Test and Iterate:** Test the functionality and usability of the dashboard, seeking feedback from potential users. Iterate on the design and make improvements based on user input and additional data analysis requirements."
   ]
  },
  {
   "cell_type": "markdown",
   "id": "a9092be0-6272-409d-b161-ae202be51a96",
   "metadata": {},
   "source": [
    "## Project Tools:\n",
    "    \n",
    "Data Source: \n",
    "\n",
    "- The Global Health Observatory <https://www.who.int/data/gho>\n",
    "- OData API documentation: <https://www.who.int/data/gho/info/gho-odata-api>\n",
    "\n",
    "Retrieve the data: \n",
    "\n",
    "- **requests** or **urllib** to make HTTP requests to the OData API and retrieve the data.\n",
    "- Pandas: Perform data preprocessing, cleaning, filtering, and transformation using the powerful data manipulation capabilities of pandas.\n",
    "\n",
    "Analyze the Data:\n",
    "\n",
    "- Pandas: Utilize pandas for exploratory data analysis (EDA), data wrangling, and statistical analysis on the retrieved data.\n",
    "- NumPy: Use NumPy for numerical computations and mathematical operations.\n",
    "\n",
    "Visualization Tools:\n",
    "\n",
    "- Matplotlib: Create static visualizations such as line plots, bar charts, and scatter plots.\n",
    "- Seaborn: Build aesthetically pleasing and informative statistical visualizations.\n",
    "- Plotly: Develop interactive and customizable visualizations, including interactive charts and dashboards.\n",
    "\n",
    "Design the Dashboard:\n",
    "\n",
    "- Dash: Build interactive web-based dashboards using Python and HTML components.\n",
    "\n",
    "Deploy the Dashboard:\n",
    "\n",
    "- GitHub pages\n",
    "\n",
    "Test and Iterate:\n",
    "\n",
    "- User feedback and testing: Gather feedback from potential users and testers to improve the functionality and user experience of your dashboard.\n",
    "- Jupyter Notebook or documentation: Document the project, including the data analysis process, code, and key findings."
   ]
  },
  {
   "cell_type": "markdown",
   "id": "172ea002-e2d1-4129-8fb0-e3c107dda75d",
   "metadata": {},
   "source": [
    "### 1. Select the Data Source"
   ]
  },
  {
   "cell_type": "markdown",
   "id": "e955ce8b-71b6-4144-9ce5-f76c8faf605c",
   "metadata": {},
   "source": [
    "What I found exploring the GHO Data Collection:\n",
    "\n",
    "- The GHO data repository serves as the World Health Organization's (WHO) portal to health-related statistics concerning its 194 Member States.\n",
    "- The Data could be explored by Theme, Category or Indicator.\n",
    "- The GHO data repository offers access to a wide range of health indicators, exceeding 2000 in number. \n",
    "- Indicators cover crucial health topics such as mortality, disease burden, Millennium Development Goals, non-communicable diseases, infectious diseases, health systems, environmental health, violence, injuries, and equity, among others.\n",
    "- Several indicators do not contain data or the data is not updated or completed."
   ]
  },
  {
   "cell_type": "markdown",
   "id": "1bddce6b-3a65-405e-9654-a052865a09d5",
   "metadata": {},
   "source": [
    "### 2. Understanding the API"
   ]
  },
  {
   "cell_type": "markdown",
   "id": "f4372c5e-0ef4-42f7-81e2-5abfd9a7624b",
   "metadata": {},
   "source": [
    "Study the documentation of the OData API to understand its endpoints, query parameters, and how to retrieve data. Identify the available resources, data models, and relationships between entities.\n",
    "\n",
    "About the API:\n",
    "\n",
    "The Global Health Observatory (GHO) is constructed using a technology called RESTful web service. REST stands for Representational State Transfer, which is an architectural style used to design networked applications. In this context, GHO uses RESTful web services as the underlying technology to provide access to its data.\n",
    "\n",
    "RESTful web services use standard HTTP methods (such as GET, POST, PUT, DELETE) to interact with resources (data) over the internet. These resources are identified by URLs, and the web service responds with data in a structured format, often in JSON or XML.\n",
    "\n",
    "By using a RESTful web service, the Global Health Observatory can allow users to easily retrieve health-related data through standard web protocols, making it accessible and interoperable across various platforms and programming languages. This approach enables efficient data access and manipulation, making it convenient for data analysts and developers to fetch and utilize the health data provided by the GHO.\n",
    "\n",
    "- The documentation is clear and extensive."
   ]
  },
  {
   "cell_type": "markdown",
   "id": "11ec23c7-7800-4cf5-b510-b901f59dc150",
   "metadata": {},
   "source": [
    "### 3. Retrieve and Preprocess Data: \n",
    "\n",
    "Use the OData API to fetch the required data based on the analysis goals. Apply data preprocessing steps like cleaning, filtering, and transforming the data as necessary to prepare it for analysis."
   ]
  },
  {
   "cell_type": "markdown",
   "id": "e7388b55-0b3f-477a-b8c6-3b9841bb2935",
   "metadata": {},
   "source": [
    "### 3.1 Retrieving"
   ]
  },
  {
   "cell_type": "code",
   "execution_count": 1,
   "id": "55c8e20e-27b7-44a8-ab2f-4be8d7f56a24",
   "metadata": {},
   "outputs": [],
   "source": [
    "# Import the libraries\n",
    "\n",
    "import pandas as pd\n",
    "import requests\n",
    "import json\n"
   ]
  },
  {
   "cell_type": "markdown",
   "id": "d42656eb-f105-4616-9232-d9c1113dd340",
   "metadata": {},
   "source": [
    "GET request to obtain the dimension data directly from the Global Health Observatory API\n"
   ]
  },
  {
   "cell_type": "markdown",
   "id": "47024487-a7f9-401c-8600-e01a9501c479",
   "metadata": {},
   "source": [
    "#### Retrieving all Dimension Values for Country dimension"
   ]
  },
  {
   "cell_type": "code",
   "execution_count": 2,
   "id": "0d014727-57aa-4227-a3c6-c1cb3f0521d6",
   "metadata": {},
   "outputs": [
    {
     "name": "stdout",
     "output_type": "stream",
     "text": [
      "Request Successful\n"
     ]
    }
   ],
   "source": [
    "# Send a GET request to the API endpoint\n",
    "url = \"https://ghoapi.azureedge.net/api/DIMENSION/COUNTRY/DimensionValues\"\n",
    "response = requests.get(url)\n",
    "\n",
    "# Check the response status code\n",
    "if response.status_code == 200:\n",
    "    resp = response.json()\n",
    "    data_countries = resp['value']\n",
    "    # Process the data as needed\n",
    "    for item in data_countries:\n",
    "        value = item\n",
    "    print('Request Successful')\n",
    "        # Process each item in the data\n",
    "\n",
    "else:\n",
    "    print(\"Request failed with status code:\", response.status_code)"
   ]
  },
  {
   "cell_type": "code",
   "execution_count": 3,
   "id": "c76f4c41-4ae1-45f5-be86-12083bd6c77e",
   "metadata": {},
   "outputs": [
    {
     "name": "stdout",
     "output_type": "stream",
     "text": [
      "<class 'pandas.core.frame.DataFrame'>\n",
      "RangeIndex: 248 entries, 0 to 247\n",
      "Data columns (total 6 columns):\n",
      " #   Column           Non-Null Count  Dtype \n",
      "---  ------           --------------  ----- \n",
      " 0   Code             248 non-null    object\n",
      " 1   Title            248 non-null    object\n",
      " 2   ParentDimension  242 non-null    object\n",
      " 3   Dimension        248 non-null    object\n",
      " 4   ParentCode       242 non-null    object\n",
      " 5   ParentTitle      242 non-null    object\n",
      "dtypes: object(6)\n",
      "memory usage: 11.8+ KB\n"
     ]
    }
   ],
   "source": [
    "# Create a countries DataFrame\n",
    "countries = pd.DataFrame(data_countries)\n",
    "countries.info()"
   ]
  },
  {
   "cell_type": "code",
   "execution_count": 4,
   "id": "c64f7626-9693-42c4-b8a9-e27586f15a0e",
   "metadata": {},
   "outputs": [
    {
     "data": {
      "text/html": [
       "<div>\n",
       "<style scoped>\n",
       "    .dataframe tbody tr th:only-of-type {\n",
       "        vertical-align: middle;\n",
       "    }\n",
       "\n",
       "    .dataframe tbody tr th {\n",
       "        vertical-align: top;\n",
       "    }\n",
       "\n",
       "    .dataframe thead th {\n",
       "        text-align: right;\n",
       "    }\n",
       "</style>\n",
       "<table border=\"1\" class=\"dataframe\">\n",
       "  <thead>\n",
       "    <tr style=\"text-align: right;\">\n",
       "      <th></th>\n",
       "      <th>Code</th>\n",
       "      <th>Title</th>\n",
       "      <th>ParentDimension</th>\n",
       "      <th>Dimension</th>\n",
       "      <th>ParentCode</th>\n",
       "      <th>ParentTitle</th>\n",
       "    </tr>\n",
       "  </thead>\n",
       "  <tbody>\n",
       "    <tr>\n",
       "      <th>0</th>\n",
       "      <td>ABW</td>\n",
       "      <td>Aruba</td>\n",
       "      <td>REGION</td>\n",
       "      <td>COUNTRY</td>\n",
       "      <td>AMR</td>\n",
       "      <td>Americas</td>\n",
       "    </tr>\n",
       "    <tr>\n",
       "      <th>1</th>\n",
       "      <td>AFG</td>\n",
       "      <td>Afghanistan</td>\n",
       "      <td>REGION</td>\n",
       "      <td>COUNTRY</td>\n",
       "      <td>EMR</td>\n",
       "      <td>Eastern Mediterranean</td>\n",
       "    </tr>\n",
       "    <tr>\n",
       "      <th>2</th>\n",
       "      <td>AGO</td>\n",
       "      <td>Angola</td>\n",
       "      <td>REGION</td>\n",
       "      <td>COUNTRY</td>\n",
       "      <td>AFR</td>\n",
       "      <td>Africa</td>\n",
       "    </tr>\n",
       "    <tr>\n",
       "      <th>3</th>\n",
       "      <td>AIA</td>\n",
       "      <td>Anguilla</td>\n",
       "      <td>REGION</td>\n",
       "      <td>COUNTRY</td>\n",
       "      <td>AMR</td>\n",
       "      <td>Americas</td>\n",
       "    </tr>\n",
       "    <tr>\n",
       "      <th>4</th>\n",
       "      <td>ALB</td>\n",
       "      <td>Albania</td>\n",
       "      <td>REGION</td>\n",
       "      <td>COUNTRY</td>\n",
       "      <td>EUR</td>\n",
       "      <td>Europe</td>\n",
       "    </tr>\n",
       "  </tbody>\n",
       "</table>\n",
       "</div>"
      ],
      "text/plain": [
       "  Code        Title ParentDimension Dimension ParentCode  \\\n",
       "0  ABW        Aruba          REGION   COUNTRY        AMR   \n",
       "1  AFG  Afghanistan          REGION   COUNTRY        EMR   \n",
       "2  AGO       Angola          REGION   COUNTRY        AFR   \n",
       "3  AIA     Anguilla          REGION   COUNTRY        AMR   \n",
       "4  ALB      Albania          REGION   COUNTRY        EUR   \n",
       "\n",
       "             ParentTitle  \n",
       "0               Americas  \n",
       "1  Eastern Mediterranean  \n",
       "2                 Africa  \n",
       "3               Americas  \n",
       "4                 Europe  "
      ]
     },
     "execution_count": 4,
     "metadata": {},
     "output_type": "execute_result"
    }
   ],
   "source": [
    "countries.head(5)"
   ]
  },
  {
   "cell_type": "code",
   "execution_count": 5,
   "id": "0e58a863-8615-4c81-b547-88a0660d07bc",
   "metadata": {},
   "outputs": [
    {
     "name": "stdout",
     "output_type": "stream",
     "text": [
      "There are 248 countries in the data\n"
     ]
    }
   ],
   "source": [
    "print(f'There are {countries.shape[0]} countries in the data')"
   ]
  },
  {
   "cell_type": "markdown",
   "id": "2bb1432c-cde8-4a23-a67c-6e85735b3b45",
   "metadata": {},
   "source": [
    "#### Retrieving all Indicators (list of indicators)"
   ]
  },
  {
   "cell_type": "code",
   "execution_count": 6,
   "id": "deaecdbc-db36-41e8-a2d5-31ae1b5b2f85",
   "metadata": {},
   "outputs": [],
   "source": [
    "# Send a GET request to the API endpoint\n",
    "url = \"https://ghoapi.azureedge.net/api/Indicator\"\n",
    "response = requests.get(url)\n",
    "\n",
    "# Check the response status code\n",
    "if response.status_code == 200:\n",
    "    resp = response.json()\n",
    "    data_indicators = resp['value']\n",
    "    # Process the data as needed\n",
    "    for item in data_indicators:\n",
    "        value = item\n",
    "        value #print to see values\n",
    "        # Process each item in the data\n",
    "\n",
    "else:\n",
    "    print(\"Request failed with status code:\", response.status_code)"
   ]
  },
  {
   "cell_type": "code",
   "execution_count": 7,
   "id": "f6a33c44-5a18-44d4-81a3-399f6cf6a583",
   "metadata": {},
   "outputs": [
    {
     "name": "stdout",
     "output_type": "stream",
     "text": [
      "<class 'pandas.core.frame.DataFrame'>\n",
      "RangeIndex: 2342 entries, 0 to 2341\n",
      "Data columns (total 3 columns):\n",
      " #   Column         Non-Null Count  Dtype \n",
      "---  ------         --------------  ----- \n",
      " 0   IndicatorCode  2342 non-null   object\n",
      " 1   IndicatorName  2342 non-null   object\n",
      " 2   Language       2342 non-null   object\n",
      "dtypes: object(3)\n",
      "memory usage: 55.0+ KB\n"
     ]
    }
   ],
   "source": [
    "# Create a indicators DataFrame\n",
    "\n",
    "indicators = pd.DataFrame(data_indicators)\n",
    "\n",
    "indicators.info()\n"
   ]
  },
  {
   "cell_type": "code",
   "execution_count": 8,
   "id": "59f59cb0-bb2a-43d0-96e2-e0dbb4e7ea25",
   "metadata": {},
   "outputs": [
    {
     "data": {
      "text/html": [
       "<div>\n",
       "<style scoped>\n",
       "    .dataframe tbody tr th:only-of-type {\n",
       "        vertical-align: middle;\n",
       "    }\n",
       "\n",
       "    .dataframe tbody tr th {\n",
       "        vertical-align: top;\n",
       "    }\n",
       "\n",
       "    .dataframe thead th {\n",
       "        text-align: right;\n",
       "    }\n",
       "</style>\n",
       "<table border=\"1\" class=\"dataframe\">\n",
       "  <thead>\n",
       "    <tr style=\"text-align: right;\">\n",
       "      <th></th>\n",
       "      <th>IndicatorCode</th>\n",
       "      <th>IndicatorName</th>\n",
       "      <th>Language</th>\n",
       "    </tr>\n",
       "  </thead>\n",
       "  <tbody>\n",
       "    <tr>\n",
       "      <th>1074</th>\n",
       "      <td>RSUD_41</td>\n",
       "      <td>Specialized treatment services for drug use disoders and HIV/AIDS</td>\n",
       "      <td>EN</td>\n",
       "    </tr>\n",
       "    <tr>\n",
       "      <th>2237</th>\n",
       "      <td>NCD_CCS_SALT_TARGET</td>\n",
       "      <td>Existence of a national target on salt</td>\n",
       "      <td>EN</td>\n",
       "    </tr>\n",
       "    <tr>\n",
       "      <th>2248</th>\n",
       "      <td>PRISON_F1_EXERCISE_TOT</td>\n",
       "      <td>In-prison people who regularly exercise for a minimum of 150 minutes/week (number of prisoners)</td>\n",
       "      <td>EN</td>\n",
       "    </tr>\n",
       "    <tr>\n",
       "      <th>1928</th>\n",
       "      <td>NCD_CCS_ESS_MEDS_TECH_TARGET</td>\n",
       "      <td>Existence of a national target on essential medicines and technologies</td>\n",
       "      <td>EN</td>\n",
       "    </tr>\n",
       "    <tr>\n",
       "      <th>209</th>\n",
       "      <td>GDO_q12x2x1x1_3PUB</td>\n",
       "      <td>Majority provider of respite care for dementia carers (Public sector)</td>\n",
       "      <td>EN</td>\n",
       "    </tr>\n",
       "    <tr>\n",
       "      <th>1034</th>\n",
       "      <td>RSUD_200</td>\n",
       "      <td>Confidentiality of people in treatment for substance use disorders</td>\n",
       "      <td>EN</td>\n",
       "    </tr>\n",
       "    <tr>\n",
       "      <th>1665</th>\n",
       "      <td>TB_c_mdr_tsr</td>\n",
       "      <td>Treatment success rate for patients treated for MDR-TB (%)</td>\n",
       "      <td>EN</td>\n",
       "    </tr>\n",
       "    <tr>\n",
       "      <th>1293</th>\n",
       "      <td>SA_0000001511</td>\n",
       "      <td>Advertising restrictions in print media</td>\n",
       "      <td>EN</td>\n",
       "    </tr>\n",
       "    <tr>\n",
       "      <th>2208</th>\n",
       "      <td>NCD_HYP_DIAGNOSIS_C</td>\n",
       "      <td>Prevalence of previous diagnosis of hypertension among adults aged 30-79 with hypertension, crude</td>\n",
       "      <td>EN</td>\n",
       "    </tr>\n",
       "    <tr>\n",
       "      <th>48</th>\n",
       "      <td>Camp_mat_tested</td>\n",
       "      <td>Campaign was pre-tested</td>\n",
       "      <td>EN</td>\n",
       "    </tr>\n",
       "  </tbody>\n",
       "</table>\n",
       "</div>"
      ],
      "text/plain": [
       "                     IndicatorCode  \\\n",
       "1074                       RSUD_41   \n",
       "2237           NCD_CCS_SALT_TARGET   \n",
       "2248        PRISON_F1_EXERCISE_TOT   \n",
       "1928  NCD_CCS_ESS_MEDS_TECH_TARGET   \n",
       "209             GDO_q12x2x1x1_3PUB   \n",
       "1034                      RSUD_200   \n",
       "1665                  TB_c_mdr_tsr   \n",
       "1293                 SA_0000001511   \n",
       "2208           NCD_HYP_DIAGNOSIS_C   \n",
       "48                 Camp_mat_tested   \n",
       "\n",
       "                                                                                          IndicatorName  \\\n",
       "1074                                  Specialized treatment services for drug use disoders and HIV/AIDS   \n",
       "2237                                                             Existence of a national target on salt   \n",
       "2248    In-prison people who regularly exercise for a minimum of 150 minutes/week (number of prisoners)   \n",
       "1928                             Existence of a national target on essential medicines and technologies   \n",
       "209                               Majority provider of respite care for dementia carers (Public sector)   \n",
       "1034                                 Confidentiality of people in treatment for substance use disorders   \n",
       "1665                                         Treatment success rate for patients treated for MDR-TB (%)   \n",
       "1293                                                            Advertising restrictions in print media   \n",
       "2208  Prevalence of previous diagnosis of hypertension among adults aged 30-79 with hypertension, crude   \n",
       "48                                                                              Campaign was pre-tested   \n",
       "\n",
       "     Language  \n",
       "1074       EN  \n",
       "2237       EN  \n",
       "2248       EN  \n",
       "1928       EN  \n",
       "209        EN  \n",
       "1034       EN  \n",
       "1665       EN  \n",
       "1293       EN  \n",
       "2208       EN  \n",
       "48         EN  "
      ]
     },
     "execution_count": 8,
     "metadata": {},
     "output_type": "execute_result"
    }
   ],
   "source": [
    "pd.set_option('display.max_colwidth', None)\n",
    "indicators.sample(10)"
   ]
  },
  {
   "cell_type": "code",
   "execution_count": 9,
   "id": "8ecd30e0-dd84-4405-88dd-a98371298def",
   "metadata": {},
   "outputs": [
    {
     "name": "stdout",
     "output_type": "stream",
     "text": [
      "There are 2342 indicators in the data\n"
     ]
    }
   ],
   "source": [
    "print(f'There are {indicators.shape[0]} indicators in the data')\n"
   ]
  },
  {
   "cell_type": "markdown",
   "id": "d85cb75f-f171-449a-b8ce-97de93c7bc6d",
   "metadata": {},
   "source": [
    "The number of indicators is really high. Previous exploration of the data (directly in the website) showed that a lot of those indicators do not contain updated data or have several NaN values. "
   ]
  },
  {
   "cell_type": "markdown",
   "id": "80e9ed8e-9aa9-4fe1-a870-c0318c513660",
   "metadata": {},
   "source": [
    "<div class=\"alert alert-block alert-info\">\n",
    "<b></b>  The initial personal motivation to build this project came from the curiosity about the trend in Tobacco consumption and global tobacco control initiatives, then I dove deeper into this group of indicators."
   ]
  },
  {
   "cell_type": "markdown",
   "id": "d734c4cd-c8ff-4a19-ae23-290e2171fddb",
   "metadata": {},
   "source": [
    "#### Retrieving Tobacco indicators"
   ]
  },
  {
   "cell_type": "code",
   "execution_count": 10,
   "id": "3e86643c-a16a-4551-b954-844c56f4af1c",
   "metadata": {},
   "outputs": [
    {
     "data": {
      "text/html": [
       "<div>\n",
       "<style scoped>\n",
       "    .dataframe tbody tr th:only-of-type {\n",
       "        vertical-align: middle;\n",
       "    }\n",
       "\n",
       "    .dataframe tbody tr th {\n",
       "        vertical-align: top;\n",
       "    }\n",
       "\n",
       "    .dataframe thead th {\n",
       "        text-align: right;\n",
       "    }\n",
       "</style>\n",
       "<table border=\"1\" class=\"dataframe\">\n",
       "  <thead>\n",
       "    <tr style=\"text-align: right;\">\n",
       "      <th></th>\n",
       "      <th>IndicatorCode</th>\n",
       "      <th>IndicatorName</th>\n",
       "      <th>Language</th>\n",
       "    </tr>\n",
       "  </thead>\n",
       "  <tbody>\n",
       "    <tr>\n",
       "      <th>47</th>\n",
       "      <td>Camp_gov_prog</td>\n",
       "      <td>Campaign was part of a comprehensive tobacco control programme</td>\n",
       "      <td>EN</td>\n",
       "    </tr>\n",
       "    <tr>\n",
       "      <th>104</th>\n",
       "      <td>E_Group</td>\n",
       "      <td>Enforcing bans on tobacco advertising, promotion and sponsorship</td>\n",
       "      <td>EN</td>\n",
       "    </tr>\n",
       "    <tr>\n",
       "      <th>109</th>\n",
       "      <td>E11_brand_stretching</td>\n",
       "      <td>Ban on non-tobacco goods AND services identified with tobacco brand names</td>\n",
       "      <td>EN</td>\n",
       "    </tr>\n",
       "    <tr>\n",
       "      <th>110</th>\n",
       "      <td>E11_compliance</td>\n",
       "      <td>Compliance of ban on non-tobacco goods AND services identified with tobacco brand names</td>\n",
       "      <td>EN</td>\n",
       "    </tr>\n",
       "    <tr>\n",
       "      <th>111</th>\n",
       "      <td>E12_brand_sharing</td>\n",
       "      <td>Ban on brand name of non-tobacco products used for tobacco product</td>\n",
       "      <td>EN</td>\n",
       "    </tr>\n",
       "    <tr>\n",
       "      <th>...</th>\n",
       "      <td>...</td>\n",
       "      <td>...</td>\n",
       "      <td>...</td>\n",
       "    </tr>\n",
       "    <tr>\n",
       "      <th>2286</th>\n",
       "      <td>M_Est_tob_curr_std</td>\n",
       "      <td>Estimate of current tobacco use prevalence (%) (age-standardized rate)</td>\n",
       "      <td>EN</td>\n",
       "    </tr>\n",
       "    <tr>\n",
       "      <th>2299</th>\n",
       "      <td>Adult_daily_tob_smoking</td>\n",
       "      <td>Prevalence of daily tobacco smoking among adults (%)</td>\n",
       "      <td>EN</td>\n",
       "    </tr>\n",
       "    <tr>\n",
       "      <th>2313</th>\n",
       "      <td>E_compl_e11</td>\n",
       "      <td>Compliance with ban on use of brand name of non-tobacco product for tobacco product (score)</td>\n",
       "      <td>EN</td>\n",
       "    </tr>\n",
       "    <tr>\n",
       "      <th>2324</th>\n",
       "      <td>Adult_daily_tob_use</td>\n",
       "      <td>Prevalence of daily tobacco use among adults (%)</td>\n",
       "      <td>EN</td>\n",
       "    </tr>\n",
       "    <tr>\n",
       "      <th>2329</th>\n",
       "      <td>M_Est_smk_curr_std</td>\n",
       "      <td>Estimate of current tobacco smoking prevalence (%) (age-standardized rate)</td>\n",
       "      <td>EN</td>\n",
       "    </tr>\n",
       "  </tbody>\n",
       "</table>\n",
       "<p>137 rows × 3 columns</p>\n",
       "</div>"
      ],
      "text/plain": [
       "                IndicatorCode  \\\n",
       "47              Camp_gov_prog   \n",
       "104                   E_Group   \n",
       "109      E11_brand_stretching   \n",
       "110            E11_compliance   \n",
       "111         E12_brand_sharing   \n",
       "...                       ...   \n",
       "2286       M_Est_tob_curr_std   \n",
       "2299  Adult_daily_tob_smoking   \n",
       "2313              E_compl_e11   \n",
       "2324      Adult_daily_tob_use   \n",
       "2329       M_Est_smk_curr_std   \n",
       "\n",
       "                                                                                    IndicatorName  \\\n",
       "47                                 Campaign was part of a comprehensive tobacco control programme   \n",
       "104                              Enforcing bans on tobacco advertising, promotion and sponsorship   \n",
       "109                     Ban on non-tobacco goods AND services identified with tobacco brand names   \n",
       "110       Compliance of ban on non-tobacco goods AND services identified with tobacco brand names   \n",
       "111                            Ban on brand name of non-tobacco products used for tobacco product   \n",
       "...                                                                                           ...   \n",
       "2286                       Estimate of current tobacco use prevalence (%) (age-standardized rate)   \n",
       "2299                                         Prevalence of daily tobacco smoking among adults (%)   \n",
       "2313  Compliance with ban on use of brand name of non-tobacco product for tobacco product (score)   \n",
       "2324                                             Prevalence of daily tobacco use among adults (%)   \n",
       "2329                   Estimate of current tobacco smoking prevalence (%) (age-standardized rate)   \n",
       "\n",
       "     Language  \n",
       "47         EN  \n",
       "104        EN  \n",
       "109        EN  \n",
       "110        EN  \n",
       "111        EN  \n",
       "...       ...  \n",
       "2286       EN  \n",
       "2299       EN  \n",
       "2313       EN  \n",
       "2324       EN  \n",
       "2329       EN  \n",
       "\n",
       "[137 rows x 3 columns]"
      ]
     },
     "execution_count": 10,
     "metadata": {},
     "output_type": "execute_result"
    }
   ],
   "source": [
    "# Looking for the indicators related with 'Tobacco'\n",
    "\n",
    "Tobacco_indicators = indicators[indicators['IndicatorName'].str.contains('tobacco', case=False)]\n",
    "\n",
    "Tobacco_indicators"
   ]
  },
  {
   "cell_type": "code",
   "execution_count": 11,
   "id": "c0ebb53d-785c-4e28-bcbd-310defde747d",
   "metadata": {},
   "outputs": [
    {
     "name": "stdout",
     "output_type": "stream",
     "text": [
      "<class 'pandas.core.frame.DataFrame'>\n",
      "Int64Index: 137 entries, 47 to 2329\n",
      "Data columns (total 3 columns):\n",
      " #   Column         Non-Null Count  Dtype \n",
      "---  ------         --------------  ----- \n",
      " 0   IndicatorCode  137 non-null    object\n",
      " 1   IndicatorName  137 non-null    object\n",
      " 2   Language       137 non-null    object\n",
      "dtypes: object(3)\n",
      "memory usage: 4.3+ KB\n"
     ]
    }
   ],
   "source": [
    "Tobacco_indicators.info()"
   ]
  },
  {
   "cell_type": "markdown",
   "id": "8875653a-4d3e-44d7-bbae-54e784d19264",
   "metadata": {},
   "source": [
    "There are 137 indicators related with 'Tobacco', I'll choose some on them to explore the data available"
   ]
  },
  {
   "cell_type": "code",
   "execution_count": 12,
   "id": "0b7266f5-bde6-490e-90cd-858eeab224c2",
   "metadata": {
    "scrolled": true
   },
   "outputs": [
    {
     "data": {
      "text/html": [
       "<div>\n",
       "<style scoped>\n",
       "    .dataframe tbody tr th:only-of-type {\n",
       "        vertical-align: middle;\n",
       "    }\n",
       "\n",
       "    .dataframe tbody tr th {\n",
       "        vertical-align: top;\n",
       "    }\n",
       "\n",
       "    .dataframe thead th {\n",
       "        text-align: right;\n",
       "    }\n",
       "</style>\n",
       "<table border=\"1\" class=\"dataframe\">\n",
       "  <thead>\n",
       "    <tr style=\"text-align: right;\">\n",
       "      <th></th>\n",
       "      <th>IndicatorCode</th>\n",
       "      <th>IndicatorName</th>\n",
       "      <th>Language</th>\n",
       "    </tr>\n",
       "  </thead>\n",
       "  <tbody>\n",
       "    <tr>\n",
       "      <th>614</th>\n",
       "      <td>M_Est_tob_curr</td>\n",
       "      <td>Estimate of current tobacco use prevalence (%)</td>\n",
       "      <td>EN</td>\n",
       "    </tr>\n",
       "    <tr>\n",
       "      <th>1941</th>\n",
       "      <td>Adult_curr_smokeless</td>\n",
       "      <td>Prevalence of current smokeless tobacco use among adults (%)</td>\n",
       "      <td>EN</td>\n",
       "    </tr>\n",
       "    <tr>\n",
       "      <th>1995</th>\n",
       "      <td>Yth_daily_smokeless</td>\n",
       "      <td>Prevalence of daily smokeless tobacco use among adolescents (%)</td>\n",
       "      <td>EN</td>\n",
       "    </tr>\n",
       "    <tr>\n",
       "      <th>2058</th>\n",
       "      <td>M_Est_smk_curr</td>\n",
       "      <td>Estimate of current tobacco smoking prevalence (%)</td>\n",
       "      <td>EN</td>\n",
       "    </tr>\n",
       "    <tr>\n",
       "      <th>2062</th>\n",
       "      <td>Adult_daily_smokeless</td>\n",
       "      <td>Prevalence of daily smokeless tobacco use among adults (%)</td>\n",
       "      <td>EN</td>\n",
       "    </tr>\n",
       "    <tr>\n",
       "      <th>2107</th>\n",
       "      <td>Yth_daily_tob_smoking</td>\n",
       "      <td>Prevalence of daily tobacco smoking among adolescents (%)</td>\n",
       "      <td>EN</td>\n",
       "    </tr>\n",
       "    <tr>\n",
       "      <th>2140</th>\n",
       "      <td>Adult_curr_tob_smoking</td>\n",
       "      <td>Prevalence of current tobacco smoking among adults (%)</td>\n",
       "      <td>EN</td>\n",
       "    </tr>\n",
       "    <tr>\n",
       "      <th>2143</th>\n",
       "      <td>Yth_curr_smokeless</td>\n",
       "      <td>Prevalence of current smokeless tobacco use among adolescents (%)</td>\n",
       "      <td>EN</td>\n",
       "    </tr>\n",
       "    <tr>\n",
       "      <th>2159</th>\n",
       "      <td>Adult_curr_tob_use</td>\n",
       "      <td>Prevalence of current tobacco use among adults (%)</td>\n",
       "      <td>EN</td>\n",
       "    </tr>\n",
       "    <tr>\n",
       "      <th>2234</th>\n",
       "      <td>Yth_curr_tob_use</td>\n",
       "      <td>Prevalence of current tobacco use among adolescents (%)</td>\n",
       "      <td>EN</td>\n",
       "    </tr>\n",
       "    <tr>\n",
       "      <th>2252</th>\n",
       "      <td>Yth_curr_tob_smoking</td>\n",
       "      <td>Prevalence of current tobacco smoking among adolescents (%)</td>\n",
       "      <td>EN</td>\n",
       "    </tr>\n",
       "    <tr>\n",
       "      <th>2286</th>\n",
       "      <td>M_Est_tob_curr_std</td>\n",
       "      <td>Estimate of current tobacco use prevalence (%) (age-standardized rate)</td>\n",
       "      <td>EN</td>\n",
       "    </tr>\n",
       "    <tr>\n",
       "      <th>2299</th>\n",
       "      <td>Adult_daily_tob_smoking</td>\n",
       "      <td>Prevalence of daily tobacco smoking among adults (%)</td>\n",
       "      <td>EN</td>\n",
       "    </tr>\n",
       "    <tr>\n",
       "      <th>2324</th>\n",
       "      <td>Adult_daily_tob_use</td>\n",
       "      <td>Prevalence of daily tobacco use among adults (%)</td>\n",
       "      <td>EN</td>\n",
       "    </tr>\n",
       "    <tr>\n",
       "      <th>2329</th>\n",
       "      <td>M_Est_smk_curr_std</td>\n",
       "      <td>Estimate of current tobacco smoking prevalence (%) (age-standardized rate)</td>\n",
       "      <td>EN</td>\n",
       "    </tr>\n",
       "  </tbody>\n",
       "</table>\n",
       "</div>"
      ],
      "text/plain": [
       "                IndicatorCode  \\\n",
       "614            M_Est_tob_curr   \n",
       "1941     Adult_curr_smokeless   \n",
       "1995      Yth_daily_smokeless   \n",
       "2058           M_Est_smk_curr   \n",
       "2062    Adult_daily_smokeless   \n",
       "2107    Yth_daily_tob_smoking   \n",
       "2140   Adult_curr_tob_smoking   \n",
       "2143       Yth_curr_smokeless   \n",
       "2159       Adult_curr_tob_use   \n",
       "2234         Yth_curr_tob_use   \n",
       "2252     Yth_curr_tob_smoking   \n",
       "2286       M_Est_tob_curr_std   \n",
       "2299  Adult_daily_tob_smoking   \n",
       "2324      Adult_daily_tob_use   \n",
       "2329       M_Est_smk_curr_std   \n",
       "\n",
       "                                                                   IndicatorName  \\\n",
       "614                               Estimate of current tobacco use prevalence (%)   \n",
       "1941                Prevalence of current smokeless tobacco use among adults (%)   \n",
       "1995             Prevalence of daily smokeless tobacco use among adolescents (%)   \n",
       "2058                          Estimate of current tobacco smoking prevalence (%)   \n",
       "2062                  Prevalence of daily smokeless tobacco use among adults (%)   \n",
       "2107                   Prevalence of daily tobacco smoking among adolescents (%)   \n",
       "2140                      Prevalence of current tobacco smoking among adults (%)   \n",
       "2143           Prevalence of current smokeless tobacco use among adolescents (%)   \n",
       "2159                          Prevalence of current tobacco use among adults (%)   \n",
       "2234                     Prevalence of current tobacco use among adolescents (%)   \n",
       "2252                 Prevalence of current tobacco smoking among adolescents (%)   \n",
       "2286      Estimate of current tobacco use prevalence (%) (age-standardized rate)   \n",
       "2299                        Prevalence of daily tobacco smoking among adults (%)   \n",
       "2324                            Prevalence of daily tobacco use among adults (%)   \n",
       "2329  Estimate of current tobacco smoking prevalence (%) (age-standardized rate)   \n",
       "\n",
       "     Language  \n",
       "614        EN  \n",
       "1941       EN  \n",
       "1995       EN  \n",
       "2058       EN  \n",
       "2062       EN  \n",
       "2107       EN  \n",
       "2140       EN  \n",
       "2143       EN  \n",
       "2159       EN  \n",
       "2234       EN  \n",
       "2252       EN  \n",
       "2286       EN  \n",
       "2299       EN  \n",
       "2324       EN  \n",
       "2329       EN  "
      ]
     },
     "execution_count": 12,
     "metadata": {},
     "output_type": "execute_result"
    }
   ],
   "source": [
    "# Let's explore indicator related with prevalence\n",
    "\n",
    "Tobacco_prevalence = Tobacco_indicators[Tobacco_indicators['IndicatorName'].str.contains('prevalence', case=False)]\n",
    "\n",
    "Tobacco_prevalence\n"
   ]
  },
  {
   "cell_type": "code",
   "execution_count": 13,
   "id": "0867cf74-6964-42ef-965d-f50e7ea2c863",
   "metadata": {},
   "outputs": [
    {
     "name": "stdout",
     "output_type": "stream",
     "text": [
      "There are 15 indicators related with tobacco and prevalence\n"
     ]
    }
   ],
   "source": [
    "print(f'There are {Tobacco_prevalence.shape[0]} indicators related with tobacco and prevalence')"
   ]
  },
  {
   "cell_type": "markdown",
   "id": "29be293e-e302-4b59-bd3a-40f93c150077",
   "metadata": {},
   "source": [
    "I used a for loop to write the urls and explore the data in all the indicators within the word 'Prevalence', the process is available in the extended version on GitHub. Finally, the indicator I decided to use was **M_Est_smk_curr_std == Estimate of current tobacco use prevalence (%)**"
   ]
  },
  {
   "cell_type": "markdown",
   "id": "406ba4ab-3bb7-4056-a5e5-1d79d51dcb1b",
   "metadata": {},
   "source": [
    "#### Comment about the exploration of the API and the indicators content."
   ]
  },
  {
   "cell_type": "markdown",
   "id": "4a6d35f3-8058-4ea7-a9c6-b7d5426930c8",
   "metadata": {},
   "source": [
    " Here are some of conclusions of that exploration:"
   ]
  },
  {
   "cell_type": "markdown",
   "id": "6042de52-92c5-4835-9b41-6a9ace8e9f30",
   "metadata": {},
   "source": [
    "The API is working accordingly and I am pulling the data. Nevertheless the GHO website is not totally coherent with the list of indicators I am working with through the API. This add complexity to the process, considering it is relevant to find the indicator description."
   ]
  },
  {
   "cell_type": "markdown",
   "id": "7dd9b0d5-94f5-43ca-8c33-f2be7967b47c",
   "metadata": {},
   "source": [
    "This indicators are listed in [Old GHO indicators list](https://apps.who.int/gho/data/node.imr#ndx-P) :\n",
    "\n",
    "  - Estimate of current tobacco use prevalence (%) (age-standardized rate) (Tobacco control)\n",
    "  - Estimate of current tobacco smoking prevalence (%) (age-standardized rate) (Tobacco control)\n",
    "  - Estimate of current cigarette smoking prevalence (%) (age-standardized rate) (Tobacco control)\n",
    "  - Estimate of daily tobacco use prevalence (%) (age-standardized rate) (Tobacco control)\n",
    "  - Estimate of daily tobacco smoking prevalence (%) (age-standardized rate) (Tobacco control)\n",
    "  - Estimate of daily cigarette smoking prevalence (%) (age-standardized rate) (Tobacco control)\n",
    "\n",
    "However, there is not `Estimate of current tobacco use prevalence (%)` especific description. Perhaps, this indicator could include same data than `Estimate of current tobacco use prevalence (%) (age-standardized rate)` having additional data in the last one?\n",
    "\n",
    "[Old GHO indicators list](https://apps.who.int/gho/data/node.imr#ndx-P) links `Estimate of current tobacco use prevalence (%) (age-standardized rate)` to `Prevalence of current tobacco use among persons aged 15 years and older (age-standardized rate)` in the [New GHO indicators list](https://www.who.int/data/gho/indicator-metadata-registry/imr-details/prevalence-of-current-tobacco-use-among-persons-aged-15-years-and-older-(age-standardized-rate))."
   ]
  },
  {
   "cell_type": "markdown",
   "id": "ed5779f7-173b-44af-9502-389577d1e9f7",
   "metadata": {},
   "source": [
    "The indicators are divided in two groups, those that start with `Estimate` word and `Prevalence` word.\n",
    "\n",
    "Checking the [GHO indicators list](https://www.who.int/data/gho/data/indicators/indicators-index) there is not description of the indicators that start with 'Prevalence' word.\n",
    "\n",
    "And the indicators I found in the [Old GHO indicators list](https://apps.who.int/gho/data/node.imr#ndx-P) redirect to the same data: WHO Global Report on Trends in Tobacco Smoking 2000-2025, the WHO Global Health Observatory and the Implementation Database of the WHO FCTC available [here](https://www.who.int/data/gho/data/indicators/indicator-details/GHO/prevalence-of-smoking-any-tobacco-product-among-persons-aged-=-15-years). "
   ]
  },
  {
   "cell_type": "markdown",
   "id": "72b7821d-8011-435a-8bc2-9aeee8f1a8cc",
   "metadata": {},
   "source": [
    "I sent a clarification request to the GHO (Aug 3rd 2023) - awaitting for response.\n",
    "\n",
    "<div class=\"alert alert-block alert-info\">\n",
    "<b></b> While getting a clarification from GHO I'm going to work based on the assumption that most of these indicators are coming from the same report WHO Global Report on Trends in Tobacco Smoking 2000-2025. \n",
    "    \n",
    "Then I'll choose the indicators that maybe are going to provide me more data about and explore deeper those. </div>\n",
    "\n",
    "\n"
   ]
  },
  {
   "cell_type": "markdown",
   "id": "354b1acb-30f4-4ff4-a7e1-7829a829d385",
   "metadata": {},
   "source": [
    "I looked for 'age' data regarding tobacco indicators. However, I did not find any indicator that contained that dimension."
   ]
  },
  {
   "cell_type": "markdown",
   "id": "f775eb1b-e322-4dae-bf63-6045d2012032",
   "metadata": {},
   "source": [
    " Tobacco use is indeed a significant contributor to a wide range of non-communicable diseases (NCDs) and is a leading cause of preventable illness and death worldwide. Non-communicable diseases are chronic conditions that are not caused by infectious agents but rather result from a combination of genetic, lifestyle, and environmental factors. These diseases include cardiovascular diseases (like heart disease and stroke), cancer, chronic respiratory diseases (such as chronic obstructive pulmonary disease), and diabetes. [Division of Global Health Protection, Global Health, Centers for Disease Control and Prevention]('https://www.cdc.gov/globalhealth/healthprotection/ncd/tobacco.html').\n",
    "\n",
    "The harmful effects of tobacco use are primarily attributed to the various toxic substances present in tobacco products, such as nicotine, tar, and carbon monoxide. These substances can damage organs and tissues in the body and increase the risk of developing NCDs. It's also worth noting that secondhand smoke exposure, which occurs when non-smokers breathe in smoke from tobacco products, is also harmful and can lead to similar health risks."
   ]
  },
  {
   "cell_type": "markdown",
   "id": "77f4c23b-cf97-4a42-9788-0b534f042443",
   "metadata": {},
   "source": [
    "**Indicators**"
   ]
  },
  {
   "cell_type": "markdown",
   "id": "908c8e59-5827-4063-bafc-13e42f36548d",
   "metadata": {},
   "source": [
    "- NCD_UNDER70\tPremature deaths due to noncommunicable diseases (NCD) as a proportion of all NCD deaths\t\n",
    "- SA_0000001807\tCancer, age-standardized death rates (15+), per 100,000 population\n",
    "- SDG_SH_DTH_RNCOM\tNumber of deaths attributed to non-communicable diseases, by type of disease and sex\n",
    "\n",
    "According with [Canadian Cancer Society](https://cancer.ca/en/cancer-information/reduce-your-risk/live-smoke-free/what-you-need-to-know-about-second-hand-smoke) Second-hand smoke is what smokers breathe out and into the air. It’s also the smoke that comes from a burning cigarette, cigar or pipe. Second-hand smoke has the same chemicals in it as the tobacco smoke breathed in by a smoker. Hundreds of the chemicals in second-hand smoke are toxic. More than 70 of them have been shown to cause cancer in human studies or lab tests. Every year, about 800 Canadian non-smokers die from second-hand smoke.\n",
    "\n",
    "- SHS_4\tSecond-hand smoke attributable deaths\n",
    "- SHS_6\tSecond-hand smoke attributable deaths per 100'000 capita\n",
    "- SHS_8\tSecond-hand smoke attributable deaths ('000) in children under 5 years\n",
    "- SHS_9\tSecond-hand smoke attributable deaths per 100'000 children under 5 years\n",
    "                                                       \n",
    "                                                       \n",
    "                                                       "
   ]
  },
  {
   "cell_type": "code",
   "execution_count": null,
   "id": "55e3e5a6-f9ef-4baf-be13-33ea0a96ac8a",
   "metadata": {},
   "outputs": [],
   "source": []
  },
  {
   "cell_type": "markdown",
   "id": "575e8cff-ff3b-4b3e-9650-8d396374dc45",
   "metadata": {},
   "source": [
    "#### Summarizing the indicators exploration: \n",
    "\n"
   ]
  },
  {
   "cell_type": "markdown",
   "id": "9e759221-7e07-4fbc-af1f-362fcc9a83e1",
   "metadata": {},
   "source": [
    "**Dataframes to work with in the dashboard:**\n",
    "\n",
    "| Indicator Code            | Indicator Name                                                                           |\n",
    "|---------------------------|------------------------------------------------------------------------------------------|\n",
    "| M_Est_smk_curr_std:  | Estimate of current tobacco use prevalence (%)                                           |\n",
    "| P_Group:             | Protecting people from tobacco smoke                                                     |\n",
    "| O_Group:             | Offering help to quit tobacco use                                                        |\n",
    "| NCD_UNDER70:         | Premature deaths due to noncommunicable diseases (NCD) as a proportion of all NCD deaths |\n",
    "\n"
   ]
  },
  {
   "cell_type": "markdown",
   "id": "696bfa25-726c-4d34-9d20-e2e50626aa7d",
   "metadata": {},
   "source": [
    "#### Indicators Dataframes"
   ]
  },
  {
   "cell_type": "code",
   "execution_count": 14,
   "id": "0404fd22-c6de-48b6-8f66-ce969e08e2ff",
   "metadata": {},
   "outputs": [
    {
     "data": {
      "text/plain": [
       "['https://ghoapi.azureedge.net/api/M_Est_smk_curr_std',\n",
       " 'https://ghoapi.azureedge.net/api/P_Group',\n",
       " 'https://ghoapi.azureedge.net/api/O_Group',\n",
       " 'https://ghoapi.azureedge.net/api/NCD_UNDER70']"
      ]
     },
     "execution_count": 14,
     "metadata": {},
     "output_type": "execute_result"
    }
   ],
   "source": [
    "# Create a for loop to create the urls for the indicators I found exploring 'deaths' and the indicators I found worthy before.\n",
    "\n",
    "IndicatorCodes = ['M_Est_smk_curr_std', 'P_Group', 'O_Group', 'NCD_UNDER70']\n",
    "\n",
    "urls = []\n",
    "\n",
    "for Codes in IndicatorCodes:\n",
    "    # Create the URLs\n",
    "    url = f\"https://ghoapi.azureedge.net/api/{Codes}\"\n",
    "    urls.append(url)\n",
    "    \n",
    "urls"
   ]
  },
  {
   "cell_type": "code",
   "execution_count": 15,
   "id": "3eda5d00-80e1-469e-a910-719b2be1ca9c",
   "metadata": {},
   "outputs": [
    {
     "name": "stdout",
     "output_type": "stream",
     "text": [
      "dict_keys(['df_M_Est_smk_curr_std', 'df_P_Group', 'df_O_Group', 'df_NCD_UNDER70'])\n"
     ]
    }
   ],
   "source": [
    "# Create a for loop to retrieve the data and transform it into dataframes\n",
    "\n",
    "df_dictionary = {}\n",
    "\n",
    "for url in urls:\n",
    "    response = requests.get(url)\n",
    "\n",
    "    # Check the response status code\n",
    "    if response.status_code == 200:\n",
    "        resp = response.json()\n",
    "        data = resp['value']            \n",
    "        # Transform the json responses into dataframes.\n",
    "        df = pd.DataFrame(data)  \n",
    "        # Name the df with the indicator code \n",
    "        df_name = f\"df_{url.split('/')[-1]}\"\n",
    "        # Include each name df into a dictionary\n",
    "        df_dictionary[df_name] = df\n",
    "        \n",
    "    else:\n",
    "        print(\"Request failed with status code:\", response.status_code)\n",
    "\n",
    "        # print the dictionary of dataframes.        \n",
    "print(df_dictionary.keys())"
   ]
  },
  {
   "cell_type": "code",
   "execution_count": 16,
   "id": "0b664c3e-e7fd-4e02-958a-8c78d1c83899",
   "metadata": {},
   "outputs": [],
   "source": [
    "# Extract the dfs from the dictionary\n",
    "\n",
    "df_M_Est_smk_curr_std = df_dictionary['df_M_Est_smk_curr_std']\n",
    "df_P_Group = df_dictionary['df_P_Group']\n",
    "df_O_Group = df_dictionary['df_O_Group']\n",
    "df_NCD_UNDER70 = df_dictionary['df_NCD_UNDER70']\n"
   ]
  },
  {
   "cell_type": "code",
   "execution_count": 17,
   "id": "bf80f78c-6946-4d12-9cb5-a55114d5df68",
   "metadata": {},
   "outputs": [
    {
     "name": "stdout",
     "output_type": "stream",
     "text": [
      "4428 rows and 23 columns\n",
      "1560 rows and 23 columns\n",
      "1560 rows and 23 columns\n",
      "11640 rows and 23 columns\n"
     ]
    }
   ],
   "source": [
    "# print the shape\n",
    "\n",
    "for df in [df_M_Est_smk_curr_std, df_P_Group, df_O_Group, df_NCD_UNDER70]:\n",
    "    print(f'{df.shape[0]} rows and {df.shape[1]} columns')"
   ]
  },
  {
   "cell_type": "markdown",
   "id": "5272c673-4b73-42f7-8852-89f31350ed4d",
   "metadata": {},
   "source": [
    "### 3.2 Processing"
   ]
  },
  {
   "cell_type": "markdown",
   "id": "a81ff6d6-c450-478e-ae8c-9c0fb5675882",
   "metadata": {},
   "source": [
    "Keep just the columns of interest and renamed to better communication"
   ]
  },
  {
   "cell_type": "markdown",
   "id": "a2b8055c-bb8f-4900-b228-c951063c43b9",
   "metadata": {},
   "source": [
    "#### Countries"
   ]
  },
  {
   "cell_type": "code",
   "execution_count": 18,
   "id": "dbbbad99-696a-4b20-a1b6-8c438f252fcc",
   "metadata": {},
   "outputs": [
    {
     "data": {
      "text/html": [
       "<div>\n",
       "<style scoped>\n",
       "    .dataframe tbody tr th:only-of-type {\n",
       "        vertical-align: middle;\n",
       "    }\n",
       "\n",
       "    .dataframe tbody tr th {\n",
       "        vertical-align: top;\n",
       "    }\n",
       "\n",
       "    .dataframe thead th {\n",
       "        text-align: right;\n",
       "    }\n",
       "</style>\n",
       "<table border=\"1\" class=\"dataframe\">\n",
       "  <thead>\n",
       "    <tr style=\"text-align: right;\">\n",
       "      <th></th>\n",
       "      <th>Code</th>\n",
       "      <th>Title</th>\n",
       "      <th>ParentDimension</th>\n",
       "      <th>Dimension</th>\n",
       "      <th>ParentCode</th>\n",
       "      <th>ParentTitle</th>\n",
       "    </tr>\n",
       "  </thead>\n",
       "  <tbody>\n",
       "    <tr>\n",
       "      <th>0</th>\n",
       "      <td>ABW</td>\n",
       "      <td>Aruba</td>\n",
       "      <td>REGION</td>\n",
       "      <td>COUNTRY</td>\n",
       "      <td>AMR</td>\n",
       "      <td>Americas</td>\n",
       "    </tr>\n",
       "    <tr>\n",
       "      <th>1</th>\n",
       "      <td>AFG</td>\n",
       "      <td>Afghanistan</td>\n",
       "      <td>REGION</td>\n",
       "      <td>COUNTRY</td>\n",
       "      <td>EMR</td>\n",
       "      <td>Eastern Mediterranean</td>\n",
       "    </tr>\n",
       "  </tbody>\n",
       "</table>\n",
       "</div>"
      ],
      "text/plain": [
       "  Code        Title ParentDimension Dimension ParentCode  \\\n",
       "0  ABW        Aruba          REGION   COUNTRY        AMR   \n",
       "1  AFG  Afghanistan          REGION   COUNTRY        EMR   \n",
       "\n",
       "             ParentTitle  \n",
       "0               Americas  \n",
       "1  Eastern Mediterranean  "
      ]
     },
     "execution_count": 18,
     "metadata": {},
     "output_type": "execute_result"
    }
   ],
   "source": [
    "# Countries dataframe\n",
    "countries.head(2)"
   ]
  },
  {
   "cell_type": "code",
   "execution_count": 19,
   "id": "90222138-131d-4fb6-a805-1a20876fb326",
   "metadata": {},
   "outputs": [],
   "source": [
    "# Rename the columns\n",
    "countries.rename(columns = {'Code': 'Country Code', 'Title': 'Country', 'ParentTitle': 'WHO Region'}, inplace = True)"
   ]
  },
  {
   "cell_type": "code",
   "execution_count": 20,
   "id": "08424e15-c12b-457b-96f4-20466269a7e5",
   "metadata": {},
   "outputs": [],
   "source": [
    "# Select specific columns using the .loc indexer\n",
    "final_countries = countries.loc[:, ['Country Code', 'Country', 'WHO Region']]"
   ]
  },
  {
   "cell_type": "code",
   "execution_count": 21,
   "id": "8ec5fe13-7a76-4f25-9f62-cde49ab58364",
   "metadata": {},
   "outputs": [
    {
     "data": {
      "text/html": [
       "<div>\n",
       "<style scoped>\n",
       "    .dataframe tbody tr th:only-of-type {\n",
       "        vertical-align: middle;\n",
       "    }\n",
       "\n",
       "    .dataframe tbody tr th {\n",
       "        vertical-align: top;\n",
       "    }\n",
       "\n",
       "    .dataframe thead th {\n",
       "        text-align: right;\n",
       "    }\n",
       "</style>\n",
       "<table border=\"1\" class=\"dataframe\">\n",
       "  <thead>\n",
       "    <tr style=\"text-align: right;\">\n",
       "      <th></th>\n",
       "      <th>Country Code</th>\n",
       "      <th>Country</th>\n",
       "      <th>WHO Region</th>\n",
       "    </tr>\n",
       "  </thead>\n",
       "  <tbody>\n",
       "    <tr>\n",
       "      <th>0</th>\n",
       "      <td>ABW</td>\n",
       "      <td>Aruba</td>\n",
       "      <td>Americas</td>\n",
       "    </tr>\n",
       "    <tr>\n",
       "      <th>1</th>\n",
       "      <td>AFG</td>\n",
       "      <td>Afghanistan</td>\n",
       "      <td>Eastern Mediterranean</td>\n",
       "    </tr>\n",
       "    <tr>\n",
       "      <th>2</th>\n",
       "      <td>AGO</td>\n",
       "      <td>Angola</td>\n",
       "      <td>Africa</td>\n",
       "    </tr>\n",
       "  </tbody>\n",
       "</table>\n",
       "</div>"
      ],
      "text/plain": [
       "  Country Code      Country             WHO Region\n",
       "0          ABW        Aruba               Americas\n",
       "1          AFG  Afghanistan  Eastern Mediterranean\n",
       "2          AGO       Angola                 Africa"
      ]
     },
     "execution_count": 21,
     "metadata": {},
     "output_type": "execute_result"
    }
   ],
   "source": [
    "# Sanity check\n",
    "final_countries.head(3)"
   ]
  },
  {
   "cell_type": "markdown",
   "id": "af8b6bc1-577e-4aec-b8c9-4e7f0c184023",
   "metadata": {},
   "source": [
    "#### Estimate Average Smoking Prevalence"
   ]
  },
  {
   "cell_type": "code",
   "execution_count": 22,
   "id": "159c20ab-8fe8-4b4f-8a77-3e90e092aa56",
   "metadata": {},
   "outputs": [
    {
     "data": {
      "text/html": [
       "<div>\n",
       "<style scoped>\n",
       "    .dataframe tbody tr th:only-of-type {\n",
       "        vertical-align: middle;\n",
       "    }\n",
       "\n",
       "    .dataframe tbody tr th {\n",
       "        vertical-align: top;\n",
       "    }\n",
       "\n",
       "    .dataframe thead th {\n",
       "        text-align: right;\n",
       "    }\n",
       "</style>\n",
       "<table border=\"1\" class=\"dataframe\">\n",
       "  <thead>\n",
       "    <tr style=\"text-align: right;\">\n",
       "      <th></th>\n",
       "      <th>Id</th>\n",
       "      <th>IndicatorCode</th>\n",
       "      <th>SpatialDimType</th>\n",
       "      <th>SpatialDim</th>\n",
       "      <th>TimeDimType</th>\n",
       "      <th>TimeDim</th>\n",
       "      <th>Dim1Type</th>\n",
       "      <th>Dim1</th>\n",
       "      <th>Dim2Type</th>\n",
       "      <th>Dim2</th>\n",
       "      <th>...</th>\n",
       "      <th>DataSourceDim</th>\n",
       "      <th>Value</th>\n",
       "      <th>NumericValue</th>\n",
       "      <th>Low</th>\n",
       "      <th>High</th>\n",
       "      <th>Comments</th>\n",
       "      <th>Date</th>\n",
       "      <th>TimeDimensionValue</th>\n",
       "      <th>TimeDimensionBegin</th>\n",
       "      <th>TimeDimensionEnd</th>\n",
       "    </tr>\n",
       "  </thead>\n",
       "  <tbody>\n",
       "    <tr>\n",
       "      <th>0</th>\n",
       "      <td>27794728</td>\n",
       "      <td>M_Est_smk_curr_std</td>\n",
       "      <td>COUNTRY</td>\n",
       "      <td>DZA</td>\n",
       "      <td>YEAR</td>\n",
       "      <td>2020</td>\n",
       "      <td>SEX</td>\n",
       "      <td>BTSX</td>\n",
       "      <td>None</td>\n",
       "      <td>None</td>\n",
       "      <td>...</td>\n",
       "      <td>None</td>\n",
       "      <td>15.2</td>\n",
       "      <td>15.2</td>\n",
       "      <td>None</td>\n",
       "      <td>None</td>\n",
       "      <td>Projected from surveys completed prior to 2020.</td>\n",
       "      <td>2022-01-17T09:30:38.763+01:00</td>\n",
       "      <td>2020</td>\n",
       "      <td>2020-01-01T00:00:00+01:00</td>\n",
       "      <td>2020-12-31T00:00:00+01:00</td>\n",
       "    </tr>\n",
       "  </tbody>\n",
       "</table>\n",
       "<p>1 rows × 23 columns</p>\n",
       "</div>"
      ],
      "text/plain": [
       "         Id       IndicatorCode SpatialDimType SpatialDim TimeDimType  \\\n",
       "0  27794728  M_Est_smk_curr_std        COUNTRY        DZA        YEAR   \n",
       "\n",
       "   TimeDim Dim1Type  Dim1 Dim2Type  Dim2  ... DataSourceDim Value  \\\n",
       "0     2020      SEX  BTSX     None  None  ...          None  15.2   \n",
       "\n",
       "  NumericValue   Low  High                                         Comments  \\\n",
       "0         15.2  None  None  Projected from surveys completed prior to 2020.   \n",
       "\n",
       "                            Date TimeDimensionValue  \\\n",
       "0  2022-01-17T09:30:38.763+01:00               2020   \n",
       "\n",
       "          TimeDimensionBegin           TimeDimensionEnd  \n",
       "0  2020-01-01T00:00:00+01:00  2020-12-31T00:00:00+01:00  \n",
       "\n",
       "[1 rows x 23 columns]"
      ]
     },
     "execution_count": 22,
     "metadata": {},
     "output_type": "execute_result"
    }
   ],
   "source": [
    "# Estimate of current tobacco use prevalence (%) dataframe\n",
    "df_M_Est_smk_curr_std.head(1)"
   ]
  },
  {
   "cell_type": "code",
   "execution_count": 23,
   "id": "e82fe4c1-36c8-4073-947c-ebf23054365d",
   "metadata": {},
   "outputs": [],
   "source": [
    "# Rename the columns\n",
    "df_M_Est_smk_curr_std.rename(columns = {'SpatialDim': 'Country Code', 'ParentTitle': 'WHO Region', 'TimeDim' : 'Year', 'Dim1': 'Sex', 'Value': 'Prevalence'}, inplace = True)"
   ]
  },
  {
   "cell_type": "code",
   "execution_count": 24,
   "id": "fc34eccc-d1a9-4350-a064-0e0404cc564b",
   "metadata": {},
   "outputs": [],
   "source": [
    "# Select specific columns using the .loc indexer\n",
    "final_prevalence = df_M_Est_smk_curr_std.loc[:, ['Country Code', 'Year', 'Sex', 'Prevalence']]"
   ]
  },
  {
   "cell_type": "code",
   "execution_count": 25,
   "id": "3e74bd55-0336-4f42-9245-c35aa1c0d3e5",
   "metadata": {},
   "outputs": [
    {
     "data": {
      "text/html": [
       "<div>\n",
       "<style scoped>\n",
       "    .dataframe tbody tr th:only-of-type {\n",
       "        vertical-align: middle;\n",
       "    }\n",
       "\n",
       "    .dataframe tbody tr th {\n",
       "        vertical-align: top;\n",
       "    }\n",
       "\n",
       "    .dataframe thead th {\n",
       "        text-align: right;\n",
       "    }\n",
       "</style>\n",
       "<table border=\"1\" class=\"dataframe\">\n",
       "  <thead>\n",
       "    <tr style=\"text-align: right;\">\n",
       "      <th></th>\n",
       "      <th>Country Code</th>\n",
       "      <th>Year</th>\n",
       "      <th>Sex</th>\n",
       "      <th>Prevalence</th>\n",
       "    </tr>\n",
       "  </thead>\n",
       "  <tbody>\n",
       "    <tr>\n",
       "      <th>0</th>\n",
       "      <td>DZA</td>\n",
       "      <td>2020</td>\n",
       "      <td>BTSX</td>\n",
       "      <td>15.2</td>\n",
       "    </tr>\n",
       "    <tr>\n",
       "      <th>1</th>\n",
       "      <td>BEN</td>\n",
       "      <td>2020</td>\n",
       "      <td>BTSX</td>\n",
       "      <td>4.7</td>\n",
       "    </tr>\n",
       "    <tr>\n",
       "      <th>2</th>\n",
       "      <td>BWA</td>\n",
       "      <td>2020</td>\n",
       "      <td>BTSX</td>\n",
       "      <td>15</td>\n",
       "    </tr>\n",
       "  </tbody>\n",
       "</table>\n",
       "</div>"
      ],
      "text/plain": [
       "  Country Code  Year   Sex Prevalence\n",
       "0          DZA  2020  BTSX       15.2\n",
       "1          BEN  2020  BTSX        4.7\n",
       "2          BWA  2020  BTSX         15"
      ]
     },
     "execution_count": 25,
     "metadata": {},
     "output_type": "execute_result"
    }
   ],
   "source": [
    "# Sanity check\n",
    "final_prevalence.head(3)"
   ]
  },
  {
   "cell_type": "markdown",
   "id": "35c2f0f4-24c7-4dbd-b744-92f4733e0ee6",
   "metadata": {},
   "source": [
    "#### Protecting people from tobacco smoke"
   ]
  },
  {
   "cell_type": "code",
   "execution_count": 26,
   "id": "a7d91a3c-fcc4-49f2-b365-54e21e12540d",
   "metadata": {},
   "outputs": [
    {
     "data": {
      "text/html": [
       "<div>\n",
       "<style scoped>\n",
       "    .dataframe tbody tr th:only-of-type {\n",
       "        vertical-align: middle;\n",
       "    }\n",
       "\n",
       "    .dataframe tbody tr th {\n",
       "        vertical-align: top;\n",
       "    }\n",
       "\n",
       "    .dataframe thead th {\n",
       "        text-align: right;\n",
       "    }\n",
       "</style>\n",
       "<table border=\"1\" class=\"dataframe\">\n",
       "  <thead>\n",
       "    <tr style=\"text-align: right;\">\n",
       "      <th></th>\n",
       "      <th>Id</th>\n",
       "      <th>IndicatorCode</th>\n",
       "      <th>SpatialDimType</th>\n",
       "      <th>SpatialDim</th>\n",
       "      <th>TimeDimType</th>\n",
       "      <th>TimeDim</th>\n",
       "      <th>Dim1Type</th>\n",
       "      <th>Dim1</th>\n",
       "      <th>Dim2Type</th>\n",
       "      <th>Dim2</th>\n",
       "      <th>...</th>\n",
       "      <th>DataSourceDim</th>\n",
       "      <th>Value</th>\n",
       "      <th>NumericValue</th>\n",
       "      <th>Low</th>\n",
       "      <th>High</th>\n",
       "      <th>Comments</th>\n",
       "      <th>Date</th>\n",
       "      <th>TimeDimensionValue</th>\n",
       "      <th>TimeDimensionBegin</th>\n",
       "      <th>TimeDimensionEnd</th>\n",
       "    </tr>\n",
       "  </thead>\n",
       "  <tbody>\n",
       "    <tr>\n",
       "      <th>0</th>\n",
       "      <td>30006027</td>\n",
       "      <td>P_Group</td>\n",
       "      <td>COUNTRY</td>\n",
       "      <td>AFG</td>\n",
       "      <td>YEAR</td>\n",
       "      <td>2007</td>\n",
       "      <td>None</td>\n",
       "      <td>None</td>\n",
       "      <td>None</td>\n",
       "      <td>None</td>\n",
       "      <td>...</td>\n",
       "      <td>None</td>\n",
       "      <td>3</td>\n",
       "      <td>None</td>\n",
       "      <td>None</td>\n",
       "      <td>None</td>\n",
       "      <td>None</td>\n",
       "      <td>2022-09-29T14:10:49.153+02:00</td>\n",
       "      <td>2007</td>\n",
       "      <td>2007-01-01T00:00:00+01:00</td>\n",
       "      <td>2007-12-31T00:00:00+01:00</td>\n",
       "    </tr>\n",
       "  </tbody>\n",
       "</table>\n",
       "<p>1 rows × 23 columns</p>\n",
       "</div>"
      ],
      "text/plain": [
       "         Id IndicatorCode SpatialDimType SpatialDim TimeDimType  TimeDim  \\\n",
       "0  30006027       P_Group        COUNTRY        AFG        YEAR     2007   \n",
       "\n",
       "  Dim1Type  Dim1 Dim2Type  Dim2  ... DataSourceDim Value NumericValue   Low  \\\n",
       "0     None  None     None  None  ...          None     3         None  None   \n",
       "\n",
       "   High Comments                           Date TimeDimensionValue  \\\n",
       "0  None     None  2022-09-29T14:10:49.153+02:00               2007   \n",
       "\n",
       "          TimeDimensionBegin           TimeDimensionEnd  \n",
       "0  2007-01-01T00:00:00+01:00  2007-12-31T00:00:00+01:00  \n",
       "\n",
       "[1 rows x 23 columns]"
      ]
     },
     "execution_count": 26,
     "metadata": {},
     "output_type": "execute_result"
    }
   ],
   "source": [
    "# MPOWER indicator\n",
    "df_P_Group.head(1)"
   ]
  },
  {
   "cell_type": "code",
   "execution_count": 27,
   "id": "5992c009-367e-46bd-aa93-d4e7648a9563",
   "metadata": {},
   "outputs": [],
   "source": [
    "# Rename the columns\n",
    "df_P_Group.rename(columns = {'SpatialDim': 'Country Code', 'ParentTitle': 'WHO Region', 'TimeDim':'Year', 'Value': 'Protection_score'}, inplace = True)"
   ]
  },
  {
   "cell_type": "code",
   "execution_count": 28,
   "id": "54556593-1c37-4d53-8f85-0c86b2e56080",
   "metadata": {},
   "outputs": [],
   "source": [
    "# Select specific columns using the .loc indexer\n",
    "final_protecting = df_P_Group.loc[:, ['Country Code', 'Year', 'Protection_score']]"
   ]
  },
  {
   "cell_type": "code",
   "execution_count": 29,
   "id": "3c353886-efa4-4008-bb2a-77e47000f986",
   "metadata": {},
   "outputs": [
    {
     "data": {
      "text/html": [
       "<div>\n",
       "<style scoped>\n",
       "    .dataframe tbody tr th:only-of-type {\n",
       "        vertical-align: middle;\n",
       "    }\n",
       "\n",
       "    .dataframe tbody tr th {\n",
       "        vertical-align: top;\n",
       "    }\n",
       "\n",
       "    .dataframe thead th {\n",
       "        text-align: right;\n",
       "    }\n",
       "</style>\n",
       "<table border=\"1\" class=\"dataframe\">\n",
       "  <thead>\n",
       "    <tr style=\"text-align: right;\">\n",
       "      <th></th>\n",
       "      <th>Country Code</th>\n",
       "      <th>Year</th>\n",
       "      <th>Protection_score</th>\n",
       "    </tr>\n",
       "  </thead>\n",
       "  <tbody>\n",
       "    <tr>\n",
       "      <th>0</th>\n",
       "      <td>AFG</td>\n",
       "      <td>2007</td>\n",
       "      <td>3</td>\n",
       "    </tr>\n",
       "    <tr>\n",
       "      <th>1</th>\n",
       "      <td>AFG</td>\n",
       "      <td>2008</td>\n",
       "      <td>3</td>\n",
       "    </tr>\n",
       "    <tr>\n",
       "      <th>2</th>\n",
       "      <td>AFG</td>\n",
       "      <td>2010</td>\n",
       "      <td>3</td>\n",
       "    </tr>\n",
       "  </tbody>\n",
       "</table>\n",
       "</div>"
      ],
      "text/plain": [
       "  Country Code  Year Protection_score\n",
       "0          AFG  2007                3\n",
       "1          AFG  2008                3\n",
       "2          AFG  2010                3"
      ]
     },
     "execution_count": 29,
     "metadata": {},
     "output_type": "execute_result"
    }
   ],
   "source": [
    "# Sanity check\n",
    "final_protecting.head(3)"
   ]
  },
  {
   "cell_type": "markdown",
   "id": "aa2de281-e7c9-4b12-83a1-0fba65ee1676",
   "metadata": {},
   "source": [
    "#### Offering help to quit tobacco use"
   ]
  },
  {
   "cell_type": "code",
   "execution_count": 30,
   "id": "97eb1235-2c1c-4258-b54e-e94032260ea5",
   "metadata": {},
   "outputs": [
    {
     "data": {
      "text/html": [
       "<div>\n",
       "<style scoped>\n",
       "    .dataframe tbody tr th:only-of-type {\n",
       "        vertical-align: middle;\n",
       "    }\n",
       "\n",
       "    .dataframe tbody tr th {\n",
       "        vertical-align: top;\n",
       "    }\n",
       "\n",
       "    .dataframe thead th {\n",
       "        text-align: right;\n",
       "    }\n",
       "</style>\n",
       "<table border=\"1\" class=\"dataframe\">\n",
       "  <thead>\n",
       "    <tr style=\"text-align: right;\">\n",
       "      <th></th>\n",
       "      <th>Id</th>\n",
       "      <th>IndicatorCode</th>\n",
       "      <th>SpatialDimType</th>\n",
       "      <th>SpatialDim</th>\n",
       "      <th>TimeDimType</th>\n",
       "      <th>TimeDim</th>\n",
       "      <th>Dim1Type</th>\n",
       "      <th>Dim1</th>\n",
       "      <th>Dim2Type</th>\n",
       "      <th>Dim2</th>\n",
       "      <th>...</th>\n",
       "      <th>DataSourceDim</th>\n",
       "      <th>Value</th>\n",
       "      <th>NumericValue</th>\n",
       "      <th>Low</th>\n",
       "      <th>High</th>\n",
       "      <th>Comments</th>\n",
       "      <th>Date</th>\n",
       "      <th>TimeDimensionValue</th>\n",
       "      <th>TimeDimensionBegin</th>\n",
       "      <th>TimeDimensionEnd</th>\n",
       "    </tr>\n",
       "  </thead>\n",
       "  <tbody>\n",
       "    <tr>\n",
       "      <th>0</th>\n",
       "      <td>30004467</td>\n",
       "      <td>O_Group</td>\n",
       "      <td>COUNTRY</td>\n",
       "      <td>AFG</td>\n",
       "      <td>YEAR</td>\n",
       "      <td>2007</td>\n",
       "      <td>None</td>\n",
       "      <td>None</td>\n",
       "      <td>None</td>\n",
       "      <td>None</td>\n",
       "      <td>...</td>\n",
       "      <td>None</td>\n",
       "      <td>3</td>\n",
       "      <td>None</td>\n",
       "      <td>None</td>\n",
       "      <td>None</td>\n",
       "      <td>None</td>\n",
       "      <td>2022-09-29T14:10:35.44+02:00</td>\n",
       "      <td>2007</td>\n",
       "      <td>2007-01-01T00:00:00+01:00</td>\n",
       "      <td>2007-12-31T00:00:00+01:00</td>\n",
       "    </tr>\n",
       "  </tbody>\n",
       "</table>\n",
       "<p>1 rows × 23 columns</p>\n",
       "</div>"
      ],
      "text/plain": [
       "         Id IndicatorCode SpatialDimType SpatialDim TimeDimType  TimeDim  \\\n",
       "0  30004467       O_Group        COUNTRY        AFG        YEAR     2007   \n",
       "\n",
       "  Dim1Type  Dim1 Dim2Type  Dim2  ... DataSourceDim Value NumericValue   Low  \\\n",
       "0     None  None     None  None  ...          None     3         None  None   \n",
       "\n",
       "   High Comments                          Date TimeDimensionValue  \\\n",
       "0  None     None  2022-09-29T14:10:35.44+02:00               2007   \n",
       "\n",
       "          TimeDimensionBegin           TimeDimensionEnd  \n",
       "0  2007-01-01T00:00:00+01:00  2007-12-31T00:00:00+01:00  \n",
       "\n",
       "[1 rows x 23 columns]"
      ]
     },
     "execution_count": 30,
     "metadata": {},
     "output_type": "execute_result"
    }
   ],
   "source": [
    "# MPOWER indicator\n",
    "df_O_Group.head(1)"
   ]
  },
  {
   "cell_type": "code",
   "execution_count": 31,
   "id": "4fdba2a0-af9e-4e78-afa1-f44b8c468ed7",
   "metadata": {},
   "outputs": [],
   "source": [
    "# Rename the columns\n",
    "df_O_Group.rename(columns = {'SpatialDim': 'Country Code', 'ParentTitle': 'WHO Region', 'TimeDim':'Year', 'Value': 'Help_score'}, inplace = True)"
   ]
  },
  {
   "cell_type": "code",
   "execution_count": 32,
   "id": "d858ec96-7906-4b6d-9a04-25ed04489159",
   "metadata": {},
   "outputs": [],
   "source": [
    "# Select specific columns using the .loc indexer\n",
    "final_offeringhelp = df_O_Group.loc[:, ['Country Code', 'Year', 'Help_score']]"
   ]
  },
  {
   "cell_type": "code",
   "execution_count": 33,
   "id": "f66a75e1-54cf-40b9-8023-a18a2a4ec57b",
   "metadata": {},
   "outputs": [
    {
     "data": {
      "text/html": [
       "<div>\n",
       "<style scoped>\n",
       "    .dataframe tbody tr th:only-of-type {\n",
       "        vertical-align: middle;\n",
       "    }\n",
       "\n",
       "    .dataframe tbody tr th {\n",
       "        vertical-align: top;\n",
       "    }\n",
       "\n",
       "    .dataframe thead th {\n",
       "        text-align: right;\n",
       "    }\n",
       "</style>\n",
       "<table border=\"1\" class=\"dataframe\">\n",
       "  <thead>\n",
       "    <tr style=\"text-align: right;\">\n",
       "      <th></th>\n",
       "      <th>Country Code</th>\n",
       "      <th>Year</th>\n",
       "      <th>Help_score</th>\n",
       "    </tr>\n",
       "  </thead>\n",
       "  <tbody>\n",
       "    <tr>\n",
       "      <th>0</th>\n",
       "      <td>AFG</td>\n",
       "      <td>2007</td>\n",
       "      <td>3</td>\n",
       "    </tr>\n",
       "    <tr>\n",
       "      <th>1</th>\n",
       "      <td>AFG</td>\n",
       "      <td>2008</td>\n",
       "      <td>3</td>\n",
       "    </tr>\n",
       "    <tr>\n",
       "      <th>2</th>\n",
       "      <td>AFG</td>\n",
       "      <td>2010</td>\n",
       "      <td>3</td>\n",
       "    </tr>\n",
       "  </tbody>\n",
       "</table>\n",
       "</div>"
      ],
      "text/plain": [
       "  Country Code  Year Help_score\n",
       "0          AFG  2007          3\n",
       "1          AFG  2008          3\n",
       "2          AFG  2010          3"
      ]
     },
     "execution_count": 33,
     "metadata": {},
     "output_type": "execute_result"
    }
   ],
   "source": [
    "# Sanity check\n",
    "final_offeringhelp.head(3)"
   ]
  },
  {
   "cell_type": "markdown",
   "id": "a901499b-4c9a-437b-8a05-a66862f290ed",
   "metadata": {},
   "source": [
    "#### Premature deaths due to noncommunicable diseases (NCD) as a proportion of all NCD deaths"
   ]
  },
  {
   "cell_type": "code",
   "execution_count": 34,
   "id": "a727c587-cdc5-48ec-b47e-c1d60dd7da9f",
   "metadata": {},
   "outputs": [
    {
     "data": {
      "text/html": [
       "<div>\n",
       "<style scoped>\n",
       "    .dataframe tbody tr th:only-of-type {\n",
       "        vertical-align: middle;\n",
       "    }\n",
       "\n",
       "    .dataframe tbody tr th {\n",
       "        vertical-align: top;\n",
       "    }\n",
       "\n",
       "    .dataframe thead th {\n",
       "        text-align: right;\n",
       "    }\n",
       "</style>\n",
       "<table border=\"1\" class=\"dataframe\">\n",
       "  <thead>\n",
       "    <tr style=\"text-align: right;\">\n",
       "      <th></th>\n",
       "      <th>Id</th>\n",
       "      <th>IndicatorCode</th>\n",
       "      <th>SpatialDimType</th>\n",
       "      <th>SpatialDim</th>\n",
       "      <th>TimeDimType</th>\n",
       "      <th>TimeDim</th>\n",
       "      <th>Dim1Type</th>\n",
       "      <th>Dim1</th>\n",
       "      <th>Dim2Type</th>\n",
       "      <th>Dim2</th>\n",
       "      <th>...</th>\n",
       "      <th>DataSourceDim</th>\n",
       "      <th>Value</th>\n",
       "      <th>NumericValue</th>\n",
       "      <th>Low</th>\n",
       "      <th>High</th>\n",
       "      <th>Comments</th>\n",
       "      <th>Date</th>\n",
       "      <th>TimeDimensionValue</th>\n",
       "      <th>TimeDimensionBegin</th>\n",
       "      <th>TimeDimensionEnd</th>\n",
       "    </tr>\n",
       "  </thead>\n",
       "  <tbody>\n",
       "    <tr>\n",
       "      <th>0</th>\n",
       "      <td>25578824</td>\n",
       "      <td>NCD_UNDER70</td>\n",
       "      <td>COUNTRY</td>\n",
       "      <td>AFG</td>\n",
       "      <td>YEAR</td>\n",
       "      <td>2000</td>\n",
       "      <td>SEX</td>\n",
       "      <td>MLE</td>\n",
       "      <td>GHECAUSES</td>\n",
       "      <td>GHE060</td>\n",
       "      <td>...</td>\n",
       "      <td>None</td>\n",
       "      <td>72.8 [55.8-83.5]</td>\n",
       "      <td>72.78874</td>\n",
       "      <td>55.84165</td>\n",
       "      <td>83.46061</td>\n",
       "      <td>None</td>\n",
       "      <td>2021-03-10T15:22:19.27+01:00</td>\n",
       "      <td>2000</td>\n",
       "      <td>2000-01-01T00:00:00+01:00</td>\n",
       "      <td>2000-12-31T00:00:00+01:00</td>\n",
       "    </tr>\n",
       "  </tbody>\n",
       "</table>\n",
       "<p>1 rows × 23 columns</p>\n",
       "</div>"
      ],
      "text/plain": [
       "         Id IndicatorCode SpatialDimType SpatialDim TimeDimType  TimeDim  \\\n",
       "0  25578824   NCD_UNDER70        COUNTRY        AFG        YEAR     2000   \n",
       "\n",
       "  Dim1Type Dim1   Dim2Type    Dim2  ... DataSourceDim             Value  \\\n",
       "0      SEX  MLE  GHECAUSES  GHE060  ...          None  72.8 [55.8-83.5]   \n",
       "\n",
       "  NumericValue       Low      High  Comments                          Date  \\\n",
       "0     72.78874  55.84165  83.46061      None  2021-03-10T15:22:19.27+01:00   \n",
       "\n",
       "   TimeDimensionValue         TimeDimensionBegin           TimeDimensionEnd  \n",
       "0                2000  2000-01-01T00:00:00+01:00  2000-12-31T00:00:00+01:00  \n",
       "\n",
       "[1 rows x 23 columns]"
      ]
     },
     "execution_count": 34,
     "metadata": {},
     "output_type": "execute_result"
    }
   ],
   "source": [
    "# NDC: Noncommunicable diseases\n",
    "df_NCD_UNDER70.head(1)"
   ]
  },
  {
   "cell_type": "code",
   "execution_count": 35,
   "id": "ebe0d3db-b191-4f9a-bf14-1e3fcb321d34",
   "metadata": {},
   "outputs": [],
   "source": [
    "# Rename the columns\n",
    "df_NCD_UNDER70.rename(columns = {'SpatialDim': 'Country Code','TimeDim':'Year', 'Dim1':'Sex', 'NumericValue':'PrematureDeaths/NCD'}, inplace = True)"
   ]
  },
  {
   "cell_type": "code",
   "execution_count": 36,
   "id": "869c4fc1-0bdd-4f6a-b1de-7ee62cf3cb48",
   "metadata": {},
   "outputs": [],
   "source": [
    "# Select specific columns using the .loc indexer\n",
    "final_premature_deaths = df_NCD_UNDER70.loc[:, ['Country Code', 'Year', 'Sex', 'PrematureDeaths/NCD']]"
   ]
  },
  {
   "cell_type": "code",
   "execution_count": 37,
   "id": "fa751b51-76c7-4e39-9d7d-031c97b03179",
   "metadata": {},
   "outputs": [
    {
     "data": {
      "text/html": [
       "<div>\n",
       "<style scoped>\n",
       "    .dataframe tbody tr th:only-of-type {\n",
       "        vertical-align: middle;\n",
       "    }\n",
       "\n",
       "    .dataframe tbody tr th {\n",
       "        vertical-align: top;\n",
       "    }\n",
       "\n",
       "    .dataframe thead th {\n",
       "        text-align: right;\n",
       "    }\n",
       "</style>\n",
       "<table border=\"1\" class=\"dataframe\">\n",
       "  <thead>\n",
       "    <tr style=\"text-align: right;\">\n",
       "      <th></th>\n",
       "      <th>Country Code</th>\n",
       "      <th>Year</th>\n",
       "      <th>Sex</th>\n",
       "      <th>PrematureDeaths/NCD</th>\n",
       "    </tr>\n",
       "  </thead>\n",
       "  <tbody>\n",
       "    <tr>\n",
       "      <th>0</th>\n",
       "      <td>AFG</td>\n",
       "      <td>2000</td>\n",
       "      <td>MLE</td>\n",
       "      <td>72.78874</td>\n",
       "    </tr>\n",
       "    <tr>\n",
       "      <th>1</th>\n",
       "      <td>AFG</td>\n",
       "      <td>2001</td>\n",
       "      <td>MLE</td>\n",
       "      <td>72.56174</td>\n",
       "    </tr>\n",
       "    <tr>\n",
       "      <th>2</th>\n",
       "      <td>AFG</td>\n",
       "      <td>2002</td>\n",
       "      <td>MLE</td>\n",
       "      <td>72.96648</td>\n",
       "    </tr>\n",
       "  </tbody>\n",
       "</table>\n",
       "</div>"
      ],
      "text/plain": [
       "  Country Code  Year  Sex  PrematureDeaths/NCD\n",
       "0          AFG  2000  MLE             72.78874\n",
       "1          AFG  2001  MLE             72.56174\n",
       "2          AFG  2002  MLE             72.96648"
      ]
     },
     "execution_count": 37,
     "metadata": {},
     "output_type": "execute_result"
    }
   ],
   "source": [
    "# Sanity check\n",
    "final_premature_deaths.head(3)"
   ]
  },
  {
   "cell_type": "markdown",
   "id": "bd55bdba-3116-4beb-a1d0-1be6b63d14f3",
   "metadata": {},
   "source": [
    "Now concatenate the dataframes:"
   ]
  },
  {
   "cell_type": "code",
   "execution_count": 40,
   "id": "6fc6bf9e-428a-406d-a59d-6b5ed7d2826a",
   "metadata": {},
   "outputs": [],
   "source": [
    "# Merging the DataFrames: final_countries, final_prevalence, final_protecting, final_offeringhelp and final_premature_deaths.\n",
    "\n",
    "merged_df = final_countries.merge(final_prevalence, on=['Country Code'])\n",
    "merged_df = merged_df.merge(final_premature_deaths, on=['Country Code','Year','Sex'])\n",
    "merged_df = merged_df.merge(final_protecting, on=['Country Code','Year'])\n",
    "merged_df = merged_df.merge(final_offeringhelp, on=['Country Code','Year'])"
   ]
  },
  {
   "cell_type": "code",
   "execution_count": 41,
   "id": "6883fa4b-bc39-4928-99d7-5fe4e96cb12a",
   "metadata": {},
   "outputs": [
    {
     "data": {
      "text/html": [
       "<div>\n",
       "<style scoped>\n",
       "    .dataframe tbody tr th:only-of-type {\n",
       "        vertical-align: middle;\n",
       "    }\n",
       "\n",
       "    .dataframe tbody tr th {\n",
       "        vertical-align: top;\n",
       "    }\n",
       "\n",
       "    .dataframe thead th {\n",
       "        text-align: right;\n",
       "    }\n",
       "</style>\n",
       "<table border=\"1\" class=\"dataframe\">\n",
       "  <thead>\n",
       "    <tr style=\"text-align: right;\">\n",
       "      <th></th>\n",
       "      <th>Country Code</th>\n",
       "      <th>Country</th>\n",
       "      <th>WHO Region</th>\n",
       "      <th>Year</th>\n",
       "      <th>Sex</th>\n",
       "      <th>Prevalence</th>\n",
       "      <th>PrematureDeaths/NCD</th>\n",
       "      <th>Protection_score</th>\n",
       "      <th>Help_score</th>\n",
       "    </tr>\n",
       "  </thead>\n",
       "  <tbody>\n",
       "    <tr>\n",
       "      <th>0</th>\n",
       "      <td>AFG</td>\n",
       "      <td>Afghanistan</td>\n",
       "      <td>Eastern Mediterranean</td>\n",
       "      <td>2010</td>\n",
       "      <td>BTSX</td>\n",
       "      <td>14</td>\n",
       "      <td>70.07750</td>\n",
       "      <td>3</td>\n",
       "      <td>3</td>\n",
       "    </tr>\n",
       "    <tr>\n",
       "      <th>1</th>\n",
       "      <td>AFG</td>\n",
       "      <td>Afghanistan</td>\n",
       "      <td>Eastern Mediterranean</td>\n",
       "      <td>2010</td>\n",
       "      <td>MLE</td>\n",
       "      <td>23.4</td>\n",
       "      <td>72.69907</td>\n",
       "      <td>3</td>\n",
       "      <td>3</td>\n",
       "    </tr>\n",
       "    <tr>\n",
       "      <th>2</th>\n",
       "      <td>AFG</td>\n",
       "      <td>Afghanistan</td>\n",
       "      <td>Eastern Mediterranean</td>\n",
       "      <td>2010</td>\n",
       "      <td>FMLE</td>\n",
       "      <td>4.6</td>\n",
       "      <td>67.53152</td>\n",
       "      <td>3</td>\n",
       "      <td>3</td>\n",
       "    </tr>\n",
       "    <tr>\n",
       "      <th>3</th>\n",
       "      <td>AFG</td>\n",
       "      <td>Afghanistan</td>\n",
       "      <td>Eastern Mediterranean</td>\n",
       "      <td>2018</td>\n",
       "      <td>BTSX</td>\n",
       "      <td>10.2</td>\n",
       "      <td>66.55612</td>\n",
       "      <td>5</td>\n",
       "      <td>3</td>\n",
       "    </tr>\n",
       "    <tr>\n",
       "      <th>4</th>\n",
       "      <td>AFG</td>\n",
       "      <td>Afghanistan</td>\n",
       "      <td>Eastern Mediterranean</td>\n",
       "      <td>2018</td>\n",
       "      <td>MLE</td>\n",
       "      <td>17.8</td>\n",
       "      <td>70.05332</td>\n",
       "      <td>5</td>\n",
       "      <td>3</td>\n",
       "    </tr>\n",
       "    <tr>\n",
       "      <th>...</th>\n",
       "      <td>...</td>\n",
       "      <td>...</td>\n",
       "      <td>...</td>\n",
       "      <td>...</td>\n",
       "      <td>...</td>\n",
       "      <td>...</td>\n",
       "      <td>...</td>\n",
       "      <td>...</td>\n",
       "      <td>...</td>\n",
       "    </tr>\n",
       "    <tr>\n",
       "      <th>943</th>\n",
       "      <td>ZWE</td>\n",
       "      <td>Zimbabwe</td>\n",
       "      <td>Africa</td>\n",
       "      <td>2010</td>\n",
       "      <td>MLE</td>\n",
       "      <td>27.4</td>\n",
       "      <td>72.20275</td>\n",
       "      <td>3</td>\n",
       "      <td>3</td>\n",
       "    </tr>\n",
       "    <tr>\n",
       "      <th>944</th>\n",
       "      <td>ZWE</td>\n",
       "      <td>Zimbabwe</td>\n",
       "      <td>Africa</td>\n",
       "      <td>2010</td>\n",
       "      <td>FMLE</td>\n",
       "      <td>1.6</td>\n",
       "      <td>57.50541</td>\n",
       "      <td>3</td>\n",
       "      <td>3</td>\n",
       "    </tr>\n",
       "    <tr>\n",
       "      <th>945</th>\n",
       "      <td>ZWE</td>\n",
       "      <td>Zimbabwe</td>\n",
       "      <td>Africa</td>\n",
       "      <td>2018</td>\n",
       "      <td>BTSX</td>\n",
       "      <td>11.4</td>\n",
       "      <td>61.57020</td>\n",
       "      <td>3</td>\n",
       "      <td>4</td>\n",
       "    </tr>\n",
       "    <tr>\n",
       "      <th>946</th>\n",
       "      <td>ZWE</td>\n",
       "      <td>Zimbabwe</td>\n",
       "      <td>Africa</td>\n",
       "      <td>2018</td>\n",
       "      <td>MLE</td>\n",
       "      <td>21.7</td>\n",
       "      <td>68.98773</td>\n",
       "      <td>3</td>\n",
       "      <td>4</td>\n",
       "    </tr>\n",
       "    <tr>\n",
       "      <th>947</th>\n",
       "      <td>ZWE</td>\n",
       "      <td>Zimbabwe</td>\n",
       "      <td>Africa</td>\n",
       "      <td>2018</td>\n",
       "      <td>FMLE</td>\n",
       "      <td>1</td>\n",
       "      <td>55.75720</td>\n",
       "      <td>3</td>\n",
       "      <td>4</td>\n",
       "    </tr>\n",
       "  </tbody>\n",
       "</table>\n",
       "<p>948 rows × 9 columns</p>\n",
       "</div>"
      ],
      "text/plain": [
       "    Country Code      Country             WHO Region  Year   Sex Prevalence  \\\n",
       "0            AFG  Afghanistan  Eastern Mediterranean  2010  BTSX         14   \n",
       "1            AFG  Afghanistan  Eastern Mediterranean  2010   MLE       23.4   \n",
       "2            AFG  Afghanistan  Eastern Mediterranean  2010  FMLE        4.6   \n",
       "3            AFG  Afghanistan  Eastern Mediterranean  2018  BTSX       10.2   \n",
       "4            AFG  Afghanistan  Eastern Mediterranean  2018   MLE       17.8   \n",
       "..           ...          ...                    ...   ...   ...        ...   \n",
       "943          ZWE     Zimbabwe                 Africa  2010   MLE       27.4   \n",
       "944          ZWE     Zimbabwe                 Africa  2010  FMLE        1.6   \n",
       "945          ZWE     Zimbabwe                 Africa  2018  BTSX       11.4   \n",
       "946          ZWE     Zimbabwe                 Africa  2018   MLE       21.7   \n",
       "947          ZWE     Zimbabwe                 Africa  2018  FMLE          1   \n",
       "\n",
       "     PrematureDeaths/NCD Protection_score Help_score  \n",
       "0               70.07750                3          3  \n",
       "1               72.69907                3          3  \n",
       "2               67.53152                3          3  \n",
       "3               66.55612                5          3  \n",
       "4               70.05332                5          3  \n",
       "..                   ...              ...        ...  \n",
       "943             72.20275                3          3  \n",
       "944             57.50541                3          3  \n",
       "945             61.57020                3          4  \n",
       "946             68.98773                3          4  \n",
       "947             55.75720                3          4  \n",
       "\n",
       "[948 rows x 9 columns]"
      ]
     },
     "execution_count": 41,
     "metadata": {},
     "output_type": "execute_result"
    }
   ],
   "source": [
    "merged_df"
   ]
  },
  {
   "cell_type": "markdown",
   "id": "7090dc32-dde7-4ae1-988a-cd142d25e3ca",
   "metadata": {},
   "source": [
    "Great! Now is easier to deal with the data and build the graphs to the dashboard."
   ]
  }
 ],
 "metadata": {
  "kernelspec": {
   "display_name": "Python 3 (ipykernel)",
   "language": "python",
   "name": "python3"
  },
  "language_info": {
   "codemirror_mode": {
    "name": "ipython",
    "version": 3
   },
   "file_extension": ".py",
   "mimetype": "text/x-python",
   "name": "python",
   "nbconvert_exporter": "python",
   "pygments_lexer": "ipython3",
   "version": "3.9.13"
  }
 },
 "nbformat": 4,
 "nbformat_minor": 5
}
